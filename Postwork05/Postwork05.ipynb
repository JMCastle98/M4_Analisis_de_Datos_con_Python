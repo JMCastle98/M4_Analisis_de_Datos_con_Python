{
  "nbformat": 4,
  "nbformat_minor": 0,
  "metadata": {
    "colab": {
      "name": "Postwork05.ipynb",
      "provenance": [],
      "authorship_tag": "ABX9TyOf/2yAxuZ63Q8zAph5O/ik",
      "include_colab_link": true
    },
    "kernelspec": {
      "name": "python3",
      "display_name": "Python 3"
    },
    "language_info": {
      "name": "python"
    }
  },
  "cells": [
    {
      "cell_type": "markdown",
      "metadata": {
        "id": "view-in-github",
        "colab_type": "text"
      },
      "source": [
        "<a href=\"https://colab.research.google.com/github/JMCastle98/M4_Analisis_de_Datos_con_Python/blob/main/Postwork05/Postwork05.ipynb\" target=\"_parent\"><img src=\"https://colab.research.google.com/assets/colab-badge.svg\" alt=\"Open In Colab\"/></a>"
      ]
    },
    {
      "cell_type": "markdown",
      "metadata": {
        "id": "tQJ6Lvwlm3lf"
      },
      "source": [
        "# Postwork 5 - Bootstrap, Error Estándar e Intervalos de Confianza"
      ]
    },
    {
      "cell_type": "code",
      "metadata": {
        "id": "-z3Wc8GQsg7p"
      },
      "source": [
        "import pandas as pd \n",
        "import matplotlib.pyplot as plt\n",
        "import seaborn as sns\n",
        "df_clean = pd.read_csv(\"https://raw.githubusercontent.com/JMCastle98/M4_Analisis_de_Datos_con_Python/main/Dataset/pok%C3%A9dex_clean.csv\", index_col=0)\n",
        "df_numerico = df_clean[[\"height_m\",\"weight_kg\",\"total_points\",\"hp\",\"attack\",\"defense\",\"sp_attack\",\"sp_defense\",\"speed\"]]"
      ],
      "execution_count": null,
      "outputs": []
    },
    {
      "cell_type": "markdown",
      "metadata": {
        "id": "pzJWcsuS0Vwf"
      },
      "source": [
        "##  Bootstrap\n",
        "\n",
        "El Bootstrap nos sirve para generar lo que se llaman distribuciones muestrales de estadísticas. Esto es un histograma de una medida estadística cuantificada utilizando un gran número de remuestreos. Nos sirve para calcular la incertidumbre de nuestra medida estadística.\n",
        "\n",
        "El algoritmo es el siguiente:\n",
        "\n",
        "1.   Tomar un elemento de tu conjunto de datos de manera aleatoria con reposición.\n",
        "2.   Repetir el paso 1 n veces (entre más grande tu n, más preciso tu cálculo; pero no tiene sentido que sea tan grande como el tamaño de tu muestra).\n",
        "3. Tomar la medida estadística que te interese de tus valores remuestreados.\n",
        "4. Repietir los pasos 1 a 3 R veces (entre mayor sea R, más preciso tu cálculo).\n",
        "5. Utilizar las medidas obtenidas para: a) Generar un histograma o boxplot b) Calcular el error estándar c) Calcular un intervalo de confianza\n",
        "\n"
      ]
    },
    {
      "cell_type": "markdown",
      "metadata": {
        "id": "TAXGTtD82sP7"
      },
      "source": [
        "En esta ocasión nos concentraremos en 4 variables para realizar el bootstrap, estás son:\n",
        "\n",
        "    height_m\n",
        "    weight_kg\n",
        "    total_points\n",
        "    speed\n",
        "\n",
        "\n",
        "Estás 4 variables son tomadas ya que, el tamaño y el peso son algo característico de todos los pokemon, los puntos totales es una variable que depende de la mayorias de las habilidades de cada pokémon y la velocidad es la variable con menos correlación con los puntos totales de los pokemon. Para facilitar el proceso antes descrito realizamos una función:"
      ]
    },
    {
      "cell_type": "code",
      "metadata": {
        "id": "iMibZpvm6_yY"
      },
      "source": [
        "def bootstrap(campo, color):\n",
        "  means = []\n",
        "  for i in range(1000):\n",
        "    sample = df_numerico[campo].sample(n=50, replace = True)\n",
        "    means.append(sample.mean())\n",
        "    serie_means = pd.Series(means)\n",
        "\n",
        "  limite_inferior = serie_means.quantile(0.025)\n",
        "  limite_superior = serie_means.quantile(0.975)\n",
        "  \n",
        "  print(\"La asimetría es :\" ,serie_means.skew())\n",
        "  print(\"La kurtosis es :\" ,serie_means.kurtosis())\n",
        "\n",
        "  plt.figure(figsize=(5,10))\n",
        "  sns.displot(serie_means, color=color )\n",
        "  plt.show()  \n",
        "  # a) Error estándar\n",
        "  print(f'Error estandar: {serie_means.std()}')\n",
        "  print(f'Valor mínimo: {serie_means.min()}')\n",
        "  print(f'Valor máximo: {serie_means.max()}')\n",
        "  print(f'Rango: {serie_means.max() - serie_means.min()}')\n",
        "  \n",
        "  sns.boxplot(x = serie_means, color =color);\n",
        "  plt.show()\n",
        "  # b) Intervalos de confianza\n",
        "\n",
        "  print(f'Intervalo de 95% confianza de la media: {limite_inferior} < {df_numerico[campo].mean()} < {limite_superior}')\n",
        "  mean_of_intervals = ((df_numerico[campo].mean() - limite_inferior) + (limite_superior - df_numerico[campo].mean())) / 2\n",
        "\n",
        "  print(f'Intervalo de 95% confianza de la media: {  df_numerico[campo].mean()} +/- {mean_of_intervals  } ')\n",
        "\n",
        "  sns.displot(serie_means, color= color )\n",
        "  plt.axvline(limite_inferior, c = 'k')\n",
        "  plt.axvline(limite_superior, c ='k')\n",
        "  plt.show()\n",
        "\n"
      ],
      "execution_count": null,
      "outputs": []
    },
    {
      "cell_type": "markdown",
      "metadata": {
        "id": "5VsQA885s6aS"
      },
      "source": [
        "Probemósla con la altura de los pokémon:"
      ]
    },
    {
      "cell_type": "code",
      "metadata": {
        "colab": {
          "base_uri": "https://localhost:8080/",
          "height": 1000
        },
        "id": "vtjhVdYQ8Yk6",
        "outputId": "8ead60b5-3cfa-4004-9015-f83393d7ed17"
      },
      "source": [
        "bootstrap(\"height_m\",\"red\")"
      ],
      "execution_count": null,
      "outputs": [
        {
          "output_type": "stream",
          "text": [
            "La asimetría es : 3.7301810060417075\n",
            "La kurtosis es : 16.673530687013727\n"
          ],
          "name": "stdout"
        },
        {
          "output_type": "display_data",
          "data": {
            "text/plain": [
              "<Figure size 360x720 with 0 Axes>"
            ]
          },
          "metadata": {
            "tags": []
          }
        },
        {
          "output_type": "display_data",
          "data": {
            "image/png": "[encoded data removed]",
            "text/plain": [
              "<Figure size 360x360 with 1 Axes>"
            ]
          },
          "metadata": {
            "tags": [],
            "needs_background": "light"
          }
        },
        {
          "output_type": "stream",
          "text": [
            "Error estandar: 0.4758256763040748\n",
            "Valor mínimo: 0.8359999999999999\n",
            "Valor máximo: 5.629999999999999\n",
            "Rango: 4.793999999999999\n"
          ],
          "name": "stdout"
        },
        {
          "output_type": "display_data",
          "data": {
            "image/png": "[encoded data removed]",
            "text/plain": [
              "<Figure size 432x288 with 1 Axes>"
            ]
          },
          "metadata": {
            "tags": [],
            "needs_background": "light"
          }
        },
        {
          "output_type": "stream",
          "text": [
            "Intervalo de 95% confianza de la media: 0.9819499999999997 < 1.374066985645932 < 3.2624\n",
            "Intervalo de 95% confianza de la media: 1.374066985645932 +/- 1.140225 \n"
          ],
          "name": "stdout"
        },
        {
          "output_type": "display_data",
          "data": {
            "image/png": "[encoded data removed]",
            "text/plain": [
              "<Figure size 360x360 with 1 Axes>"
            ]
          },
          "metadata": {
            "tags": [],
            "needs_background": "light"
          }
        }
      ]
    },
    {
      "cell_type": "markdown",
      "metadata": {
        "id": "sjtJnqjRtdqG"
      },
      "source": [
        "¿Qué podemos concluir? Qué al contar con el universo de datos sobre pokémon, aún con la existencia de outliers como Eternatus, al realizar el método bootstrap la media de alturas seguirán en torno a 1.37 metros en una distribución con símetria positiva en la media aunque el rango sea algo grande."
      ]
    },
    {
      "cell_type": "code",
      "metadata": {
        "colab": {
          "base_uri": "https://localhost:8080/",
          "height": 1000
        },
        "id": "DH-yJ0Y58t3_",
        "outputId": "0c1f9433-4337-4aa8-dc2a-1cb75fd7f92c"
      },
      "source": [
        "bootstrap(\"weight_kg\",\"green\")"
      ],
      "execution_count": null,
      "outputs": [
        {
          "output_type": "stream",
          "text": [
            "La asimetría es : 0.6097037374722404\n",
            "La kurtosis es : 0.5220314645961923\n"
          ],
          "name": "stdout"
        },
        {
          "output_type": "display_data",
          "data": {
            "text/plain": [
              "<Figure size 360x720 with 0 Axes>"
            ]
          },
          "metadata": {
            "tags": []
          }
        },
        {
          "output_type": "display_data",
          "data": {
            "image/png": "[encoded data removed]",
            "text/plain": [
              "<Figure size 360x360 with 1 Axes>"
            ]
          },
          "metadata": {
            "tags": []
          }
        },
        {
          "output_type": "stream",
          "text": [
            "Error estandar: 18.97796683475564\n",
            "Valor mínimo: 26.848000000000003\n",
            "Valor máximo: 151.75199999999998\n",
            "Rango: 124.90399999999998\n"
          ],
          "name": "stdout"
        },
        {
          "output_type": "display_data",
          "data": {
            "image/png": "[encoded data removed]",
            "text/plain": [
              "<Figure size 432x288 with 1 Axes>"
            ]
          },
          "metadata": {
            "tags": []
          }
        },
        {
          "output_type": "stream",
          "text": [
            "Intervalo de 95% confianza de la media: 40.82575 < 71.21657088122608 < 113.00299999999997\n",
            "Intervalo de 95% confianza de la media: 71.21657088122608 +/- 36.088624999999986 \n"
          ],
          "name": "stdout"
        },
        {
          "output_type": "display_data",
          "data": {
            "image/png": "[encoded data removed]",
            "text/plain": [
              "<Figure size 360x360 with 1 Axes>"
            ]
          },
          "metadata": {
            "tags": []
          }
        }
      ]
    },
    {
      "cell_type": "markdown",
      "metadata": {
        "id": "TrJzH3IQuXCx"
      },
      "source": [
        "En el caso de peso la distribución de medias se comporta más uniformemente, contamos un valor de curtosis y asímetria medios que ayudan a describir su comportamiento. El intervalo de confianza engloba a prácticamente todos los pokémon de todos los tipos."
      ]
    },
    {
      "cell_type": "code",
      "metadata": {
        "colab": {
          "base_uri": "https://localhost:8080/",
          "height": 1000
        },
        "id": "-PwhsGVg8yZQ",
        "outputId": "b5daa0aa-f6e3-4450-8f8d-3af5cd3c421e"
      },
      "source": [
        "bootstrap(\"total_points\", \"yellow\")"
      ],
      "execution_count": null,
      "outputs": [
        {
          "output_type": "stream",
          "text": [
            "La asimetría es : 0.21519412487619793\n",
            "La kurtosis es : 0.08177041348788361\n"
          ],
          "name": "stdout"
        },
        {
          "output_type": "display_data",
          "data": {
            "text/plain": [
              "<Figure size 360x720 with 0 Axes>"
            ]
          },
          "metadata": {
            "tags": []
          }
        },
        {
          "output_type": "display_data",
          "data": {
            "image/png": "[encoded data removed]",
            "text/plain": [
              "<Figure size 360x360 with 1 Axes>"
            ]
          },
          "metadata": {
            "tags": [],
            "needs_background": "light"
          }
        },
        {
          "output_type": "stream",
          "text": [
            "Error estandar: 17.50540442847877\n",
            "Valor mínimo: 387.96\n",
            "Valor máximo: 496.24\n",
            "Rango: 108.28000000000003\n"
          ],
          "name": "stdout"
        },
        {
          "output_type": "display_data",
          "data": {
            "image/png": "[encoded data removed]",
            "text/plain": [
              "<Figure size 432x288 with 1 Axes>"
            ]
          },
          "metadata": {
            "tags": [],
            "needs_background": "light"
          }
        },
        {
          "output_type": "stream",
          "text": [
            "Intervalo de 95% confianza de la media: 406.371 < 439.3531100478469 < 476.37649999999996\n",
            "Intervalo de 95% confianza de la media: 439.3531100478469 +/- 35.00274999999999 \n"
          ],
          "name": "stdout"
        },
        {
          "output_type": "display_data",
          "data": {
            "image/png": "[encoded data removed]",
            "text/plain": [
              "<Figure size 360x360 with 1 Axes>"
            ]
          },
          "metadata": {
            "tags": [],
            "needs_background": "light"
          }
        }
      ]
    },
    {
      "cell_type": "markdown",
      "metadata": {
        "id": "7BL65jvuvZhp"
      },
      "source": [
        "La distribución de medias de los puntos totales también tiene un comportamiento muy bueno, un pokémon promedio en la mayoría de los casos contará con al menos 440 puntos totales con un rango de seguridad de 35 puntos."
      ]
    },
    {
      "cell_type": "code",
      "metadata": {
        "colab": {
          "base_uri": "https://localhost:8080/",
          "height": 1000
        },
        "id": "snLY38DC84pg",
        "outputId": "143d6551-fc9e-4f98-e277-5f63d733fe1a"
      },
      "source": [
        "bootstrap(\"speed\",\"blue\")"
      ],
      "execution_count": null,
      "outputs": [
        {
          "output_type": "stream",
          "text": [
            "La asimetría es : 0.10802643830441777\n",
            "La kurtosis es : 0.001514881769802301\n"
          ],
          "name": "stdout"
        },
        {
          "output_type": "display_data",
          "data": {
            "text/plain": [
              "<Figure size 360x720 with 0 Axes>"
            ]
          },
          "metadata": {
            "tags": []
          }
        },
        {
          "output_type": "display_data",
          "data": {
            "image/png": "[encoded data removed]",
            "text/plain": [
              "<Figure size 360x360 with 1 Axes>"
            ]
          },
          "metadata": {
            "tags": []
          }
        },
        {
          "output_type": "stream",
          "text": [
            "Error estandar: 4.378024536162312\n",
            "Valor mínimo: 54.2\n",
            "Valor máximo: 83.52\n",
            "Rango: 29.319999999999993\n"
          ],
          "name": "stdout"
        },
        {
          "output_type": "display_data",
          "data": {
            "image/png": "[encoded data removed]",
            "text/plain": [
              "<Figure size 432x288 with 1 Axes>"
            ]
          },
          "metadata": {
            "tags": []
          }
        },
        {
          "output_type": "stream",
          "text": [
            "Intervalo de 95% confianza de la media: 59.9595 < 68.74904214559388 < 77.6415\n",
            "Intervalo de 95% confianza de la media: 68.74904214559388 +/- 8.840999999999998 \n"
          ],
          "name": "stdout"
        },
        {
          "output_type": "display_data",
          "data": {
            "image/png": "[encoded data removed]",
            "text/plain": [
              "<Figure size 360x360 with 1 Axes>"
            ]
          },
          "metadata": {
            "tags": []
          }
        }
      ]
    },
    {
      "cell_type": "markdown",
      "metadata": {
        "id": "nACryZepvw8f"
      },
      "source": [
        "Con el método boostrap sabemos que los pokémon tienden a tener 68.74 puntos de velocidad, para atacar primero debes superar el límite superior del intervalo de confianza, es decir, 77.64 puntos de velocidad."
      ]
    }
  ]
}