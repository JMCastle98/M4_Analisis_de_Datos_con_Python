{
  "nbformat": 4,
  "nbformat_minor": 0,
  "metadata": {
    "colab": {
      "name": "Postwork03.ipynb",
      "provenance": [],
      "authorship_tag": "ABX9TyM/mxY74k+LPWJ45PXkIxTa",
      "include_colab_link": true
    },
    "kernelspec": {
      "name": "python3",
      "display_name": "Python 3"
    },
    "language_info": {
      "name": "python"
    }
  },
  "cells": [
    {
      "cell_type": "markdown",
      "metadata": {
        "id": "view-in-github",
        "colab_type": "text"
      },
      "source": [
        "<a href=\"https://colab.research.google.com/github/JMCastle98/M4_Analisis_de_Datos_con_Python/blob/main/Postwork03/Postwork03.ipynb\" target=\"_parent\"><img src=\"https://colab.research.google.com/assets/colab-badge.svg\" alt=\"Open In Colab\"/></a>"
      ]
    },
    {
      "cell_type": "markdown",
      "metadata": {
        "id": "KJKsqnCPiYR3"
      },
      "source": [
        "#Postwork 3: Exploración de Variables Categóricas y Análisis Multivariable\n",
        "\n",
        "Las variables categóricas nos permiten realizar un análisis de frecuencias tomando en cuenta dichas categorías."
      ]
    },
    {
      "cell_type": "code",
      "metadata": {
        "id": "nixd9olfQyZ5"
      },
      "source": [
        "import pandas as pd \n",
        "import matplotlib.pyplot as plt\n",
        "import seaborn as sns\n",
        "df_clean = pd.read_csv(\"https://raw.githubusercontent.com/JMCastle98/M4_Analisis_de_Datos_con_Python/main/Dataset/pok%C3%A9dex_clean.csv\", index_col=0)"
      ],
      "execution_count": 1,
      "outputs": []
    },
    {
      "cell_type": "markdown",
      "metadata": {
        "id": "EbUT8t6sXH7F"
      },
      "source": [
        "Veamos las variables de nuestro dataset que son de tipo \"objeto\", las cuales serán nuestras variables categóricas:"
      ]
    },
    {
      "cell_type": "code",
      "metadata": {
        "colab": {
          "base_uri": "https://localhost:8080/"
        },
        "id": "6IMWvKeIfRHn",
        "outputId": "d41b96eb-d6fb-4ecf-de4d-d19516a9fd39"
      },
      "source": [
        "df_clean.info()"
      ],
      "execution_count": 2,
      "outputs": [
        {
          "output_type": "stream",
          "text": [
            "<class 'pandas.core.frame.DataFrame'>\n",
            "Int64Index: 1045 entries, 0 to 1044\n",
            "Data columns (total 19 columns):\n",
            " #   Column          Non-Null Count  Dtype  \n",
            "---  ------          --------------  -----  \n",
            " 0   pokedex_number  1045 non-null   int64  \n",
            " 1   name            1045 non-null   object \n",
            " 2   generation      1045 non-null   int64  \n",
            " 3   status          1045 non-null   object \n",
            " 4   species         1045 non-null   object \n",
            " 5   type_number     1045 non-null   int64  \n",
            " 6   type_1          1045 non-null   object \n",
            " 7   type_2          1045 non-null   object \n",
            " 8   height_m        1045 non-null   float64\n",
            " 9   weight_kg       1045 non-null   float64\n",
            " 10  total_points    1045 non-null   int64  \n",
            " 11  hp              1045 non-null   int64  \n",
            " 12  attack          1045 non-null   int64  \n",
            " 13  defense         1045 non-null   int64  \n",
            " 14  sp_attack       1045 non-null   int64  \n",
            " 15  sp_defense      1045 non-null   int64  \n",
            " 16  speed           1045 non-null   int64  \n",
            " 17  catch_rate      1045 non-null   float64\n",
            " 18  growth_rate     1045 non-null   object \n",
            "dtypes: float64(3), int64(10), object(6)\n",
            "memory usage: 163.3+ KB\n"
          ],
          "name": "stdout"
        }
      ]
    },
    {
      "cell_type": "markdown",
      "metadata": {
        "id": "FmRemfujfS71"
      },
      "source": [
        "En el mundo pokémon existen 18 tipos diferentes, siendo la mejor forma de categorizarlos, después podemos ordenarlos por otros aspectos como el hecho de ser o no pokémon legendarios, la generación en la que fueron introducidos, su ratio de crecimiento o inclusive el ratio de captura para conocer a los pokemon más difíciles de capturar."
      ]
    },
    {
      "cell_type": "code",
      "metadata": {
        "colab": {
          "base_uri": "https://localhost:8080/"
        },
        "id": "Fx3-7ok4J3v8",
        "outputId": "b74e68f3-24cb-4186-b933-0fb1992e6bb7"
      },
      "source": [
        "df_clean['generation'].unique()"
      ],
      "execution_count": 3,
      "outputs": [
        {
          "output_type": "execute_result",
          "data": {
            "text/plain": [
              "array([1, 8, 2, 3, 4, 5, 6, 7])"
            ]
          },
          "metadata": {
            "tags": []
          },
          "execution_count": 3
        }
      ]
    },
    {
      "cell_type": "code",
      "metadata": {
        "id": "pHjU937QiuJJ",
        "colab": {
          "base_uri": "https://localhost:8080/"
        },
        "outputId": "9b59c021-ddd7-43fa-bfce-3c7469df432a"
      },
      "source": [
        "df_clean['type_1'].unique()"
      ],
      "execution_count": 4,
      "outputs": [
        {
          "output_type": "execute_result",
          "data": {
            "text/plain": [
              "array(['Grass', 'Fire', 'Water', 'Bug', 'Normal', 'Dark', 'Poison',\n",
              "       'Electric', 'Ground', 'Ice', 'Fairy', 'Steel', 'Fighting',\n",
              "       'Psychic', 'Rock', 'Ghost', 'Dragon', 'Flying'], dtype=object)"
            ]
          },
          "metadata": {
            "tags": []
          },
          "execution_count": 4
        }
      ]
    },
    {
      "cell_type": "code",
      "metadata": {
        "id": "CRAm6BHq0dZM",
        "colab": {
          "base_uri": "https://localhost:8080/"
        },
        "outputId": "8e95b369-b8f6-445d-a916-4946de1d4df2"
      },
      "source": [
        "df_clean['type_2'].unique()"
      ],
      "execution_count": 5,
      "outputs": [
        {
          "output_type": "execute_result",
          "data": {
            "text/plain": [
              "array(['Poison', 'None', 'Flying', 'Dragon', 'Normal', 'Psychic', 'Steel',\n",
              "       'Ground', 'Fairy', 'Grass', 'Fighting', 'Electric', 'Ice', 'Dark',\n",
              "       'Ghost', 'Rock', 'Water', 'Fire', 'Bug'], dtype=object)"
            ]
          },
          "metadata": {
            "tags": []
          },
          "execution_count": 5
        }
      ]
    },
    {
      "cell_type": "code",
      "metadata": {
        "id": "Q9A3Uwor06Tn",
        "colab": {
          "base_uri": "https://localhost:8080/"
        },
        "outputId": "96fcaade-b2c2-45a9-b30b-6856a6b5eec7"
      },
      "source": [
        "df_clean['status'].unique()"
      ],
      "execution_count": 6,
      "outputs": [
        {
          "output_type": "execute_result",
          "data": {
            "text/plain": [
              "array(['Normal', 'Sub Legendary', 'Legendary', 'Mythical'], dtype=object)"
            ]
          },
          "metadata": {
            "tags": []
          },
          "execution_count": 6
        }
      ]
    },
    {
      "cell_type": "code",
      "metadata": {
        "id": "j-bFeZbG07E2",
        "colab": {
          "base_uri": "https://localhost:8080/"
        },
        "outputId": "258ef96e-d691-41ba-bdcd-74f3e60e0d5f"
      },
      "source": [
        "df_clean['growth_rate'].unique()"
      ],
      "execution_count": 7,
      "outputs": [
        {
          "output_type": "execute_result",
          "data": {
            "text/plain": [
              "array(['Medium Slow', 'Medium Fast', 'Fast', 'Slow', 'Fluctuating',\n",
              "       'Erratic'], dtype=object)"
            ]
          },
          "metadata": {
            "tags": []
          },
          "execution_count": 7
        }
      ]
    },
    {
      "cell_type": "code",
      "metadata": {
        "colab": {
          "base_uri": "https://localhost:8080/"
        },
        "id": "PmBerXSgfaEv",
        "outputId": "80b98498-e861-44c7-8da4-f5f69b09a755"
      },
      "source": [
        "df_clean['catch_rate'].unique() #Es más una variable discreta"
      ],
      "execution_count": 8,
      "outputs": [
        {
          "output_type": "execute_result",
          "data": {
            "text/plain": [
              "array([ 45., 255., 120., 127.,  90., 190.,  75., 235., 150.,  25., 170.,\n",
              "        50., 200., 100., 180.,  60., 225.,  30.,  35.,   3.,  65.,  70.,\n",
              "       125., 205., 155.,   5., 145., 130., 140.,  15., 220., 160.,  80.,\n",
              "        55.,  10.])"
            ]
          },
          "metadata": {
            "tags": []
          },
          "execution_count": 8
        }
      ]
    },
    {
      "cell_type": "markdown",
      "metadata": {
        "id": "XKrupW9_fcDp"
      },
      "source": [
        "Nos quedaremos entonces con los tipos, generación, estatus y ratios de crecimiento como variables categóricas. Realizemos un conteo para saber las frecuencias:\n"
      ]
    },
    {
      "cell_type": "code",
      "metadata": {
        "id": "m2vlSuTL08In"
      },
      "source": [
        "type1_counts = df_clean['type_1'].value_counts();\n",
        "type2_counts = df_clean['type_2'].value_counts();\n",
        "generation_counts = df_clean['generation'].value_counts();\n",
        "status_counts = df_clean['status'].value_counts();\n",
        "growth_rate_counts = df_clean['growth_rate'].value_counts();"
      ],
      "execution_count": 9,
      "outputs": []
    },
    {
      "cell_type": "code",
      "metadata": {
        "id": "hdOOnKMw1eIZ",
        "colab": {
          "base_uri": "https://localhost:8080/",
          "height": 635
        },
        "outputId": "f1df2a5f-2f72-4c79-c30a-bf12ff4f73d8"
      },
      "source": [
        "plt.figure(figsize=(10, 10))\n",
        "ax = sns.barplot(x = type1_counts.index, y = type1_counts)\n",
        "ax.set_title('Conteo de pokémon por tipo primario')\n",
        "ax.set(ylabel='conteo');\n",
        "ax.set_xticklabels(ax.get_xticklabels(), rotation = 50);"
      ],
      "execution_count": 10,
      "outputs": [
        {
          "output_type": "display_data",
          "data": {
            "image/png": "[encoded data removed]",
            "text/plain": [
              "<Figure size 720x720 with 1 Axes>"
            ]
          },
          "metadata": {
            "tags": [],
            "needs_background": "light"
          }
        }
      ]
    },
    {
      "cell_type": "markdown",
      "metadata": {
        "id": "nX1RubsAhBOK"
      },
      "source": [
        "Con esta visualización observamos cuantos pokémon hay de cada tipo en la pokédex, siendo el tipo agua el más común y el tipo volador como el menos común."
      ]
    },
    {
      "cell_type": "code",
      "metadata": {
        "id": "xlr5IHzp1soT",
        "colab": {
          "base_uri": "https://localhost:8080/",
          "height": 635
        },
        "outputId": "55eada85-9fed-46bb-af35-04ae5e501cc2"
      },
      "source": [
        "plt.figure(figsize=(10, 10));\n",
        "ax = sns.barplot(x = type2_counts.index, y = type2_counts);\n",
        "ax.set_title('Conteo de pokémon por tipo secundario');\n",
        "ax.set(ylabel='conteo');\n",
        "ax.set_xticklabels(ax.get_xticklabels(), rotation = 50);"
      ],
      "execution_count": 11,
      "outputs": [
        {
          "output_type": "display_data",
          "data": {
            "image/png": "[encoded data removed]",
            "text/plain": [
              "<Figure size 720x720 with 1 Axes>"
            ]
          },
          "metadata": {
            "tags": [],
            "needs_background": "light"
          }
        }
      ]
    },
    {
      "cell_type": "markdown",
      "metadata": {
        "id": "CDHcwINEfzia"
      },
      "source": [
        "Tenemos una gran cantidad de pokémon sin un tipo secundario (pokémon puros), veamos el conteo dejándolos de lado:"
      ]
    },
    {
      "cell_type": "code",
      "metadata": {
        "id": "SIntCOhb2jPr",
        "colab": {
          "base_uri": "https://localhost:8080/",
          "height": 635
        },
        "outputId": "76540fa4-5e0e-4e1b-93f5-66ae96ffb005"
      },
      "source": [
        "df_clean_aux = df_clean[ df_clean['type_2'] != 'None' ]\n",
        "type2_counts_clean = df_clean_aux['type_2'].value_counts();\n",
        "plt.figure(figsize=(10, 10))\n",
        "ax = sns.barplot( x = type2_counts_clean.index, y = type2_counts_clean)\n",
        "ax.set_title('Conteo de pokémon por tipo secundario')\n",
        "ax.set(ylabel='conteo');\n",
        "ax.set_xticklabels(ax.get_xticklabels(), rotation = 50);"
      ],
      "execution_count": 12,
      "outputs": [
        {
          "output_type": "display_data",
          "data": {
            "image/png": "[encoded data removed]",
            "text/plain": [
              "<Figure size 720x720 with 1 Axes>"
            ]
          },
          "metadata": {
            "tags": [],
            "needs_background": "light"
          }
        }
      ]
    },
    {
      "cell_type": "markdown",
      "metadata": {
        "id": "w7tE-ozFhIpD"
      },
      "source": [
        "El tipo volador se lleva la delantera como tipo secundario más popular, dejando al tipo bicho como el menos popular."
      ]
    },
    {
      "cell_type": "code",
      "metadata": {
        "colab": {
          "base_uri": "https://localhost:8080/",
          "height": 607
        },
        "id": "pL-Hg9ejhIMn",
        "outputId": "b3ab15d4-d1fd-4322-8ab7-414c4d3c288e"
      },
      "source": [
        "plt.figure(figsize=(10, 10))\n",
        "ax = sns.barplot(x = generation_counts.index, y = generation_counts)\n",
        "ax.set_title('Conteo de pokémon por generación donde fueron introducidos')\n",
        "ax.set(ylabel='conteo');"
      ],
      "execution_count": 13,
      "outputs": [
        {
          "output_type": "display_data",
          "data": {
            "image/png": "[encoded data removed]",
            "text/plain": [
              "<Figure size 720x720 with 1 Axes>"
            ]
          },
          "metadata": {
            "tags": [],
            "needs_background": "light"
          }
        }
      ]
    },
    {
      "cell_type": "markdown",
      "metadata": {
        "id": "RSliFcv0hPBS"
      },
      "source": [
        "Ok, sé lo que están pensando, en la primer generación debería haber sólo 151 pokémon, no? Pues esto es relativamente cierto, si no contamos las formas regionales, dinamax y Mega de algunos pokémon, esto eleva los número en algunos casos. La sexta generación se quedó bastante corta, siendo la que menos pokémon nuevos introdujo.\n",
        "\n",
        "<p align=\"center\">\n",
        "<img src=\"https://i.ytimg.com/vi/5VPXglnztEM/maxresdefault.jpg\"  height =\"200\" width = \"300\">\n",
        "<p>"
      ]
    },
    {
      "cell_type": "code",
      "metadata": {
        "id": "-O4Nbtgc2kpM",
        "colab": {
          "base_uri": "https://localhost:8080/",
          "height": 607
        },
        "outputId": "fe8a4a38-fb06-4d50-f65d-43657d78d201"
      },
      "source": [
        "plt.figure(figsize=(10, 10))\n",
        "ax = sns.barplot(x = status_counts.index, y = status_counts)\n",
        "ax.set_title('Conteo de pokémon por status')\n",
        "ax.set(ylabel='conteo');"
      ],
      "execution_count": 14,
      "outputs": [
        {
          "output_type": "display_data",
          "data": {
            "image/png": "[encoded data removed]",
            "text/plain": [
              "<Figure size 720x720 with 1 Axes>"
            ]
          },
          "metadata": {
            "tags": [],
            "needs_background": "light"
          }
        }
      ]
    },
    {
      "cell_type": "markdown",
      "metadata": {
        "id": "UTRKHAtSfrHf"
      },
      "source": [
        "Era de esperarse que hubieran pocos pokemon legendarios o miticos, si ignoramos a los pokemon \"normales\":"
      ]
    },
    {
      "cell_type": "code",
      "metadata": {
        "colab": {
          "base_uri": "https://localhost:8080/",
          "height": 607
        },
        "id": "9baxDqM5fpKn",
        "outputId": "2a516cec-799e-4571-bbed-8fb8eabe0081"
      },
      "source": [
        "df_clean_aux = df_clean[ df_clean['status'] != 'Normal' ]\n",
        "status_counts_clean = df_clean_aux['status'].value_counts();\n",
        "plt.figure(figsize=(10, 10))\n",
        "ax = sns.barplot( x = status_counts_clean.index, y = status_counts_clean)\n",
        "ax.set_title('Conteo de pokémon por status')\n",
        "ax.set(ylabel='conteo');"
      ],
      "execution_count": 15,
      "outputs": [
        {
          "output_type": "display_data",
          "data": {
            "image/png": "[encoded data removed]",
            "text/plain": [
              "<Figure size 720x720 with 1 Axes>"
            ]
          },
          "metadata": {
            "tags": [],
            "needs_background": "light"
          }
        }
      ]
    },
    {
      "cell_type": "code",
      "metadata": {
        "colab": {
          "base_uri": "https://localhost:8080/",
          "height": 607
        },
        "id": "a5YRUFDEfpES",
        "outputId": "e3b95bce-7553-4b11-ea0f-ef64fea2fd0c"
      },
      "source": [
        "plt.figure(figsize=(10, 10))\n",
        "ax = sns.barplot(x = growth_rate_counts.index, y = growth_rate_counts)\n",
        "ax.set_title('Conteo de pokémon por ratio de crecimiento')\n",
        "ax.set(ylabel='conteo');"
      ],
      "execution_count": 16,
      "outputs": [
        {
          "output_type": "display_data",
          "data": {
            "image/png": "[encoded data removed]",
            "text/plain": [
              "<Figure size 720x720 with 1 Axes>"
            ]
          },
          "metadata": {
            "tags": [],
            "needs_background": "light"
          }
        }
      ]
    },
    {
      "cell_type": "markdown",
      "metadata": {
        "id": "XKFVX5rFfvl1"
      },
      "source": [
        "Finalmente, observamos que los pokémon más fáciles de entrenar abudandan y que los más díficiles son pocos. Ahora bien, como maestros pokémon, nos puede interesar información como: En general, ¿Los pokémon más raros de que tipos son? Para responder a esta pregunta haremos uso de tablas de contingencia que realicen el conteo de frecuencia por nosotros en base a variables categóricas:"
      ]
    },
    {
      "cell_type": "code",
      "metadata": {
        "colab": {
          "base_uri": "https://localhost:8080/",
          "height": 669
        },
        "id": "jgyjWcA2fo9i",
        "outputId": "2737ff71-9423-46f7-d359-edf5c864d627"
      },
      "source": [
        "pd.crosstab(df_clean['type_1'],df_clean['status'], margins=True, margins_name= 'total')"
      ],
      "execution_count": 17,
      "outputs": [
        {
          "output_type": "execute_result",
          "data": {
            "text/html": [
              "<div>\n",
              "<style scoped>\n",
              "    .dataframe tbody tr th:only-of-type {\n",
              "        vertical-align: middle;\n",
              "    }\n",
              "\n",
              "    .dataframe tbody tr th {\n",
              "        vertical-align: top;\n",
              "    }\n",
              "\n",
              "    .dataframe thead th {\n",
              "        text-align: right;\n",
              "    }\n",
              "</style>\n",
              "<table border=\"1\" class=\"dataframe\">\n",
              "  <thead>\n",
              "    <tr style=\"text-align: right;\">\n",
              "      <th>status</th>\n",
              "      <th>Legendary</th>\n",
              "      <th>Mythical</th>\n",
              "      <th>Normal</th>\n",
              "      <th>Sub Legendary</th>\n",
              "      <th>total</th>\n",
              "    </tr>\n",
              "    <tr>\n",
              "      <th>type_1</th>\n",
              "      <th></th>\n",
              "      <th></th>\n",
              "      <th></th>\n",
              "      <th></th>\n",
              "      <th></th>\n",
              "    </tr>\n",
              "  </thead>\n",
              "  <tbody>\n",
              "    <tr>\n",
              "      <th>Bug</th>\n",
              "      <td>0</td>\n",
              "      <td>1</td>\n",
              "      <td>78</td>\n",
              "      <td>2</td>\n",
              "      <td>81</td>\n",
              "    </tr>\n",
              "    <tr>\n",
              "      <th>Dark</th>\n",
              "      <td>1</td>\n",
              "      <td>2</td>\n",
              "      <td>41</td>\n",
              "      <td>2</td>\n",
              "      <td>46</td>\n",
              "    </tr>\n",
              "    <tr>\n",
              "      <th>Dragon</th>\n",
              "      <td>10</td>\n",
              "      <td>0</td>\n",
              "      <td>26</td>\n",
              "      <td>5</td>\n",
              "      <td>41</td>\n",
              "    </tr>\n",
              "    <tr>\n",
              "      <th>Electric</th>\n",
              "      <td>0</td>\n",
              "      <td>1</td>\n",
              "      <td>54</td>\n",
              "      <td>7</td>\n",
              "      <td>62</td>\n",
              "    </tr>\n",
              "    <tr>\n",
              "      <th>Fairy</th>\n",
              "      <td>3</td>\n",
              "      <td>0</td>\n",
              "      <td>19</td>\n",
              "      <td>0</td>\n",
              "      <td>22</td>\n",
              "    </tr>\n",
              "    <tr>\n",
              "      <th>Fighting</th>\n",
              "      <td>2</td>\n",
              "      <td>1</td>\n",
              "      <td>35</td>\n",
              "      <td>4</td>\n",
              "      <td>42</td>\n",
              "    </tr>\n",
              "    <tr>\n",
              "      <th>Fire</th>\n",
              "      <td>1</td>\n",
              "      <td>1</td>\n",
              "      <td>59</td>\n",
              "      <td>4</td>\n",
              "      <td>65</td>\n",
              "    </tr>\n",
              "    <tr>\n",
              "      <th>Flying</th>\n",
              "      <td>0</td>\n",
              "      <td>0</td>\n",
              "      <td>6</td>\n",
              "      <td>2</td>\n",
              "      <td>8</td>\n",
              "    </tr>\n",
              "    <tr>\n",
              "      <th>Ghost</th>\n",
              "      <td>2</td>\n",
              "      <td>0</td>\n",
              "      <td>39</td>\n",
              "      <td>1</td>\n",
              "      <td>42</td>\n",
              "    </tr>\n",
              "    <tr>\n",
              "      <th>Grass</th>\n",
              "      <td>0</td>\n",
              "      <td>2</td>\n",
              "      <td>86</td>\n",
              "      <td>3</td>\n",
              "      <td>91</td>\n",
              "    </tr>\n",
              "    <tr>\n",
              "      <th>Ground</th>\n",
              "      <td>2</td>\n",
              "      <td>0</td>\n",
              "      <td>37</td>\n",
              "      <td>2</td>\n",
              "      <td>41</td>\n",
              "    </tr>\n",
              "    <tr>\n",
              "      <th>Ice</th>\n",
              "      <td>0</td>\n",
              "      <td>0</td>\n",
              "      <td>34</td>\n",
              "      <td>3</td>\n",
              "      <td>37</td>\n",
              "    </tr>\n",
              "    <tr>\n",
              "      <th>Normal</th>\n",
              "      <td>0</td>\n",
              "      <td>3</td>\n",
              "      <td>109</td>\n",
              "      <td>3</td>\n",
              "      <td>115</td>\n",
              "    </tr>\n",
              "    <tr>\n",
              "      <th>Poison</th>\n",
              "      <td>2</td>\n",
              "      <td>0</td>\n",
              "      <td>37</td>\n",
              "      <td>2</td>\n",
              "      <td>41</td>\n",
              "    </tr>\n",
              "    <tr>\n",
              "      <th>Psychic</th>\n",
              "      <td>15</td>\n",
              "      <td>9</td>\n",
              "      <td>51</td>\n",
              "      <td>6</td>\n",
              "      <td>81</td>\n",
              "    </tr>\n",
              "    <tr>\n",
              "      <th>Rock</th>\n",
              "      <td>0</td>\n",
              "      <td>2</td>\n",
              "      <td>54</td>\n",
              "      <td>4</td>\n",
              "      <td>60</td>\n",
              "    </tr>\n",
              "    <tr>\n",
              "      <th>Steel</th>\n",
              "      <td>1</td>\n",
              "      <td>4</td>\n",
              "      <td>28</td>\n",
              "      <td>3</td>\n",
              "      <td>36</td>\n",
              "    </tr>\n",
              "    <tr>\n",
              "      <th>Water</th>\n",
              "      <td>3</td>\n",
              "      <td>4</td>\n",
              "      <td>125</td>\n",
              "      <td>2</td>\n",
              "      <td>134</td>\n",
              "    </tr>\n",
              "    <tr>\n",
              "      <th>total</th>\n",
              "      <td>42</td>\n",
              "      <td>30</td>\n",
              "      <td>918</td>\n",
              "      <td>55</td>\n",
              "      <td>1045</td>\n",
              "    </tr>\n",
              "  </tbody>\n",
              "</table>\n",
              "</div>"
            ],
            "text/plain": [
              "status    Legendary  Mythical  Normal  Sub Legendary  total\n",
              "type_1                                                     \n",
              "Bug               0         1      78              2     81\n",
              "Dark              1         2      41              2     46\n",
              "Dragon           10         0      26              5     41\n",
              "Electric          0         1      54              7     62\n",
              "Fairy             3         0      19              0     22\n",
              "Fighting          2         1      35              4     42\n",
              "Fire              1         1      59              4     65\n",
              "Flying            0         0       6              2      8\n",
              "Ghost             2         0      39              1     42\n",
              "Grass             0         2      86              3     91\n",
              "Ground            2         0      37              2     41\n",
              "Ice               0         0      34              3     37\n",
              "Normal            0         3     109              3    115\n",
              "Poison            2         0      37              2     41\n",
              "Psychic          15         9      51              6     81\n",
              "Rock              0         2      54              4     60\n",
              "Steel             1         4      28              3     36\n",
              "Water             3         4     125              2    134\n",
              "total            42        30     918             55   1045"
            ]
          },
          "metadata": {
            "tags": []
          },
          "execution_count": 17
        }
      ]
    },
    {
      "cell_type": "markdown",
      "metadata": {
        "id": "wYBBw3tOfoe7"
      },
      "source": [
        "Con los totales observamos la información que se reflejaban en las gráficas de barra, sin embargo una crosstab nos brinda información más específica. Ahora sabemos que los pokémon de tipo dragón y tipo psíquico tienen más legendarios que el resto. En el caso del tipo secundario:"
      ]
    },
    {
      "cell_type": "code",
      "metadata": {
        "id": "KESoMOVT2tD4",
        "colab": {
          "base_uri": "https://localhost:8080/",
          "height": 700
        },
        "outputId": "27130637-1b55-4991-c5d1-5299219e3e6d"
      },
      "source": [
        "pd.crosstab(df_clean['type_2'],df_clean['status'], margins=True, margins_name= 'total')"
      ],
      "execution_count": 18,
      "outputs": [
        {
          "output_type": "execute_result",
          "data": {
            "text/html": [
              "<div>\n",
              "<style scoped>\n",
              "    .dataframe tbody tr th:only-of-type {\n",
              "        vertical-align: middle;\n",
              "    }\n",
              "\n",
              "    .dataframe tbody tr th {\n",
              "        vertical-align: top;\n",
              "    }\n",
              "\n",
              "    .dataframe thead th {\n",
              "        text-align: right;\n",
              "    }\n",
              "</style>\n",
              "<table border=\"1\" class=\"dataframe\">\n",
              "  <thead>\n",
              "    <tr style=\"text-align: right;\">\n",
              "      <th>status</th>\n",
              "      <th>Legendary</th>\n",
              "      <th>Mythical</th>\n",
              "      <th>Normal</th>\n",
              "      <th>Sub Legendary</th>\n",
              "      <th>total</th>\n",
              "    </tr>\n",
              "    <tr>\n",
              "      <th>type_2</th>\n",
              "      <th></th>\n",
              "      <th></th>\n",
              "      <th></th>\n",
              "      <th></th>\n",
              "      <th></th>\n",
              "    </tr>\n",
              "  </thead>\n",
              "  <tbody>\n",
              "    <tr>\n",
              "      <th>Bug</th>\n",
              "      <td>0</td>\n",
              "      <td>0</td>\n",
              "      <td>9</td>\n",
              "      <td>0</td>\n",
              "      <td>9</td>\n",
              "    </tr>\n",
              "    <tr>\n",
              "      <th>Dark</th>\n",
              "      <td>0</td>\n",
              "      <td>1</td>\n",
              "      <td>25</td>\n",
              "      <td>1</td>\n",
              "      <td>27</td>\n",
              "    </tr>\n",
              "    <tr>\n",
              "      <th>Dragon</th>\n",
              "      <td>7</td>\n",
              "      <td>0</td>\n",
              "      <td>23</td>\n",
              "      <td>2</td>\n",
              "      <td>32</td>\n",
              "    </tr>\n",
              "    <tr>\n",
              "      <th>Electric</th>\n",
              "      <td>1</td>\n",
              "      <td>0</td>\n",
              "      <td>10</td>\n",
              "      <td>0</td>\n",
              "      <td>11</td>\n",
              "    </tr>\n",
              "    <tr>\n",
              "      <th>Fairy</th>\n",
              "      <td>0</td>\n",
              "      <td>3</td>\n",
              "      <td>34</td>\n",
              "      <td>4</td>\n",
              "      <td>41</td>\n",
              "    </tr>\n",
              "    <tr>\n",
              "      <th>Fighting</th>\n",
              "      <td>1</td>\n",
              "      <td>3</td>\n",
              "      <td>23</td>\n",
              "      <td>5</td>\n",
              "      <td>32</td>\n",
              "    </tr>\n",
              "    <tr>\n",
              "      <th>Fire</th>\n",
              "      <td>2</td>\n",
              "      <td>1</td>\n",
              "      <td>14</td>\n",
              "      <td>0</td>\n",
              "      <td>17</td>\n",
              "    </tr>\n",
              "    <tr>\n",
              "      <th>Flying</th>\n",
              "      <td>5</td>\n",
              "      <td>1</td>\n",
              "      <td>95</td>\n",
              "      <td>11</td>\n",
              "      <td>112</td>\n",
              "    </tr>\n",
              "    <tr>\n",
              "      <th>Ghost</th>\n",
              "      <td>3</td>\n",
              "      <td>2</td>\n",
              "      <td>20</td>\n",
              "      <td>1</td>\n",
              "      <td>26</td>\n",
              "    </tr>\n",
              "    <tr>\n",
              "      <th>Grass</th>\n",
              "      <td>1</td>\n",
              "      <td>2</td>\n",
              "      <td>25</td>\n",
              "      <td>0</td>\n",
              "      <td>28</td>\n",
              "    </tr>\n",
              "    <tr>\n",
              "      <th>Ground</th>\n",
              "      <td>3</td>\n",
              "      <td>0</td>\n",
              "      <td>36</td>\n",
              "      <td>0</td>\n",
              "      <td>39</td>\n",
              "    </tr>\n",
              "    <tr>\n",
              "      <th>Ice</th>\n",
              "      <td>4</td>\n",
              "      <td>0</td>\n",
              "      <td>16</td>\n",
              "      <td>0</td>\n",
              "      <td>20</td>\n",
              "    </tr>\n",
              "    <tr>\n",
              "      <th>None</th>\n",
              "      <td>11</td>\n",
              "      <td>13</td>\n",
              "      <td>446</td>\n",
              "      <td>22</td>\n",
              "      <td>492</td>\n",
              "    </tr>\n",
              "    <tr>\n",
              "      <th>Normal</th>\n",
              "      <td>0</td>\n",
              "      <td>0</td>\n",
              "      <td>11</td>\n",
              "      <td>0</td>\n",
              "      <td>11</td>\n",
              "    </tr>\n",
              "    <tr>\n",
              "      <th>Poison</th>\n",
              "      <td>0</td>\n",
              "      <td>0</td>\n",
              "      <td>37</td>\n",
              "      <td>1</td>\n",
              "      <td>38</td>\n",
              "    </tr>\n",
              "    <tr>\n",
              "      <th>Psychic</th>\n",
              "      <td>0</td>\n",
              "      <td>2</td>\n",
              "      <td>34</td>\n",
              "      <td>4</td>\n",
              "      <td>40</td>\n",
              "    </tr>\n",
              "    <tr>\n",
              "      <th>Rock</th>\n",
              "      <td>0</td>\n",
              "      <td>0</td>\n",
              "      <td>15</td>\n",
              "      <td>0</td>\n",
              "      <td>15</td>\n",
              "    </tr>\n",
              "    <tr>\n",
              "      <th>Steel</th>\n",
              "      <td>4</td>\n",
              "      <td>1</td>\n",
              "      <td>27</td>\n",
              "      <td>3</td>\n",
              "      <td>35</td>\n",
              "    </tr>\n",
              "    <tr>\n",
              "      <th>Water</th>\n",
              "      <td>0</td>\n",
              "      <td>1</td>\n",
              "      <td>18</td>\n",
              "      <td>1</td>\n",
              "      <td>20</td>\n",
              "    </tr>\n",
              "    <tr>\n",
              "      <th>total</th>\n",
              "      <td>42</td>\n",
              "      <td>30</td>\n",
              "      <td>918</td>\n",
              "      <td>55</td>\n",
              "      <td>1045</td>\n",
              "    </tr>\n",
              "  </tbody>\n",
              "</table>\n",
              "</div>"
            ],
            "text/plain": [
              "status    Legendary  Mythical  Normal  Sub Legendary  total\n",
              "type_2                                                     \n",
              "Bug               0         0       9              0      9\n",
              "Dark              0         1      25              1     27\n",
              "Dragon            7         0      23              2     32\n",
              "Electric          1         0      10              0     11\n",
              "Fairy             0         3      34              4     41\n",
              "Fighting          1         3      23              5     32\n",
              "Fire              2         1      14              0     17\n",
              "Flying            5         1      95             11    112\n",
              "Ghost             3         2      20              1     26\n",
              "Grass             1         2      25              0     28\n",
              "Ground            3         0      36              0     39\n",
              "Ice               4         0      16              0     20\n",
              "None             11        13     446             22    492\n",
              "Normal            0         0      11              0     11\n",
              "Poison            0         0      37              1     38\n",
              "Psychic           0         2      34              4     40\n",
              "Rock              0         0      15              0     15\n",
              "Steel             4         1      27              3     35\n",
              "Water             0         1      18              1     20\n",
              "total            42        30     918             55   1045"
            ]
          },
          "metadata": {
            "tags": []
          },
          "execution_count": 18
        }
      ]
    },
    {
      "cell_type": "markdown",
      "metadata": {
        "id": "mcgjE1aVf9Pl"
      },
      "source": [
        "En este caso, el valor None en el tipo secundario nos viene de perlas, ahora sabemos que hay 11 pokémon legendarios un tipo puro, 22 sub-legendarios y 13 míticos. Analizemos el ratio de crecimiento de los pokémon de acuerdo a su status:"
      ]
    },
    {
      "cell_type": "code",
      "metadata": {
        "id": "HEcUpFmc3k8Y",
        "colab": {
          "base_uri": "https://localhost:8080/",
          "height": 297
        },
        "outputId": "1c4c2390-b566-4626-aa1a-fe7dae8e147e"
      },
      "source": [
        "pd.crosstab(df_clean['growth_rate'],df_clean['status'],margins=True, margins_name= 'total' )"
      ],
      "execution_count": 19,
      "outputs": [
        {
          "output_type": "execute_result",
          "data": {
            "text/html": [
              "<div>\n",
              "<style scoped>\n",
              "    .dataframe tbody tr th:only-of-type {\n",
              "        vertical-align: middle;\n",
              "    }\n",
              "\n",
              "    .dataframe tbody tr th {\n",
              "        vertical-align: top;\n",
              "    }\n",
              "\n",
              "    .dataframe thead th {\n",
              "        text-align: right;\n",
              "    }\n",
              "</style>\n",
              "<table border=\"1\" class=\"dataframe\">\n",
              "  <thead>\n",
              "    <tr style=\"text-align: right;\">\n",
              "      <th>status</th>\n",
              "      <th>Legendary</th>\n",
              "      <th>Mythical</th>\n",
              "      <th>Normal</th>\n",
              "      <th>Sub Legendary</th>\n",
              "      <th>total</th>\n",
              "    </tr>\n",
              "    <tr>\n",
              "      <th>growth_rate</th>\n",
              "      <th></th>\n",
              "      <th></th>\n",
              "      <th></th>\n",
              "      <th></th>\n",
              "      <th></th>\n",
              "    </tr>\n",
              "  </thead>\n",
              "  <tbody>\n",
              "    <tr>\n",
              "      <th>Erratic</th>\n",
              "      <td>0</td>\n",
              "      <td>0</td>\n",
              "      <td>26</td>\n",
              "      <td>0</td>\n",
              "      <td>26</td>\n",
              "    </tr>\n",
              "    <tr>\n",
              "      <th>Fast</th>\n",
              "      <td>0</td>\n",
              "      <td>0</td>\n",
              "      <td>68</td>\n",
              "      <td>0</td>\n",
              "      <td>68</td>\n",
              "    </tr>\n",
              "    <tr>\n",
              "      <th>Fluctuating</th>\n",
              "      <td>0</td>\n",
              "      <td>0</td>\n",
              "      <td>14</td>\n",
              "      <td>0</td>\n",
              "      <td>14</td>\n",
              "    </tr>\n",
              "    <tr>\n",
              "      <th>Medium Fast</th>\n",
              "      <td>0</td>\n",
              "      <td>0</td>\n",
              "      <td>435</td>\n",
              "      <td>0</td>\n",
              "      <td>435</td>\n",
              "    </tr>\n",
              "    <tr>\n",
              "      <th>Medium Slow</th>\n",
              "      <td>0</td>\n",
              "      <td>4</td>\n",
              "      <td>242</td>\n",
              "      <td>0</td>\n",
              "      <td>246</td>\n",
              "    </tr>\n",
              "    <tr>\n",
              "      <th>Slow</th>\n",
              "      <td>42</td>\n",
              "      <td>26</td>\n",
              "      <td>133</td>\n",
              "      <td>55</td>\n",
              "      <td>256</td>\n",
              "    </tr>\n",
              "    <tr>\n",
              "      <th>total</th>\n",
              "      <td>42</td>\n",
              "      <td>30</td>\n",
              "      <td>918</td>\n",
              "      <td>55</td>\n",
              "      <td>1045</td>\n",
              "    </tr>\n",
              "  </tbody>\n",
              "</table>\n",
              "</div>"
            ],
            "text/plain": [
              "status       Legendary  Mythical  Normal  Sub Legendary  total\n",
              "growth_rate                                                   \n",
              "Erratic              0         0      26              0     26\n",
              "Fast                 0         0      68              0     68\n",
              "Fluctuating          0         0      14              0     14\n",
              "Medium Fast          0         0     435              0    435\n",
              "Medium Slow          0         4     242              0    246\n",
              "Slow                42        26     133             55    256\n",
              "total               42        30     918             55   1045"
            ]
          },
          "metadata": {
            "tags": []
          },
          "execution_count": 19
        }
      ]
    },
    {
      "cell_type": "markdown",
      "metadata": {
        "id": "dihSHQfWf_oH"
      },
      "source": [
        "Como sospechabamos, los pokémon más raros son los más dificiles de entrenar, finalmente veamos un crosstab más complicado:"
      ]
    },
    {
      "cell_type": "code",
      "metadata": {
        "id": "rJkcY3ES94Xx",
        "colab": {
          "base_uri": "https://localhost:8080/",
          "height": 332
        },
        "outputId": "4cb7f62e-d2ef-4d8e-be32-080805d67da7"
      },
      "source": [
        "pd.crosstab(df_clean['status'],[df_clean['generation'], df_clean['type_1'] ] ,margins=True, margins_name= 'total' )"
      ],
      "execution_count": 20,
      "outputs": [
        {
          "output_type": "execute_result",
          "data": {
            "text/html": [
              "<div>\n",
              "<style scoped>\n",
              "    .dataframe tbody tr th:only-of-type {\n",
              "        vertical-align: middle;\n",
              "    }\n",
              "\n",
              "    .dataframe tbody tr th {\n",
              "        vertical-align: top;\n",
              "    }\n",
              "\n",
              "    .dataframe thead tr th {\n",
              "        text-align: left;\n",
              "    }\n",
              "\n",
              "    .dataframe thead tr:last-of-type th {\n",
              "        text-align: right;\n",
              "    }\n",
              "</style>\n",
              "<table border=\"1\" class=\"dataframe\">\n",
              "  <thead>\n",
              "    <tr>\n",
              "      <th>generation</th>\n",
              "      <th colspan=\"17\" halign=\"left\">1</th>\n",
              "      <th colspan=\"16\" halign=\"left\">2</th>\n",
              "      <th colspan=\"7\" halign=\"left\">3</th>\n",
              "      <th>...</th>\n",
              "      <th colspan=\"5\" halign=\"left\">6</th>\n",
              "      <th colspan=\"16\" halign=\"left\">7</th>\n",
              "      <th colspan=\"18\" halign=\"left\">8</th>\n",
              "      <th>total</th>\n",
              "    </tr>\n",
              "    <tr>\n",
              "      <th>type_1</th>\n",
              "      <th>Bug</th>\n",
              "      <th>Dark</th>\n",
              "      <th>Dragon</th>\n",
              "      <th>Electric</th>\n",
              "      <th>Fairy</th>\n",
              "      <th>Fighting</th>\n",
              "      <th>Fire</th>\n",
              "      <th>Ghost</th>\n",
              "      <th>Grass</th>\n",
              "      <th>Ground</th>\n",
              "      <th>Ice</th>\n",
              "      <th>Normal</th>\n",
              "      <th>Poison</th>\n",
              "      <th>Psychic</th>\n",
              "      <th>Rock</th>\n",
              "      <th>Steel</th>\n",
              "      <th>Water</th>\n",
              "      <th>Bug</th>\n",
              "      <th>Dark</th>\n",
              "      <th>Electric</th>\n",
              "      <th>Fairy</th>\n",
              "      <th>Fighting</th>\n",
              "      <th>Fire</th>\n",
              "      <th>Ghost</th>\n",
              "      <th>Grass</th>\n",
              "      <th>Ground</th>\n",
              "      <th>Ice</th>\n",
              "      <th>Normal</th>\n",
              "      <th>Poison</th>\n",
              "      <th>Psychic</th>\n",
              "      <th>Rock</th>\n",
              "      <th>Steel</th>\n",
              "      <th>Water</th>\n",
              "      <th>Bug</th>\n",
              "      <th>Dark</th>\n",
              "      <th>Dragon</th>\n",
              "      <th>Electric</th>\n",
              "      <th>Fighting</th>\n",
              "      <th>Fire</th>\n",
              "      <th>Ghost</th>\n",
              "      <th>...</th>\n",
              "      <th>Poison</th>\n",
              "      <th>Psychic</th>\n",
              "      <th>Rock</th>\n",
              "      <th>Steel</th>\n",
              "      <th>Water</th>\n",
              "      <th>Bug</th>\n",
              "      <th>Dark</th>\n",
              "      <th>Dragon</th>\n",
              "      <th>Electric</th>\n",
              "      <th>Fairy</th>\n",
              "      <th>Fighting</th>\n",
              "      <th>Fire</th>\n",
              "      <th>Ghost</th>\n",
              "      <th>Grass</th>\n",
              "      <th>Ground</th>\n",
              "      <th>Normal</th>\n",
              "      <th>Poison</th>\n",
              "      <th>Psychic</th>\n",
              "      <th>Rock</th>\n",
              "      <th>Steel</th>\n",
              "      <th>Water</th>\n",
              "      <th>Bug</th>\n",
              "      <th>Dark</th>\n",
              "      <th>Dragon</th>\n",
              "      <th>Electric</th>\n",
              "      <th>Fairy</th>\n",
              "      <th>Fighting</th>\n",
              "      <th>Fire</th>\n",
              "      <th>Flying</th>\n",
              "      <th>Ghost</th>\n",
              "      <th>Grass</th>\n",
              "      <th>Ground</th>\n",
              "      <th>Ice</th>\n",
              "      <th>Normal</th>\n",
              "      <th>Poison</th>\n",
              "      <th>Psychic</th>\n",
              "      <th>Rock</th>\n",
              "      <th>Steel</th>\n",
              "      <th>Water</th>\n",
              "      <th></th>\n",
              "    </tr>\n",
              "    <tr>\n",
              "      <th>status</th>\n",
              "      <th></th>\n",
              "      <th></th>\n",
              "      <th></th>\n",
              "      <th></th>\n",
              "      <th></th>\n",
              "      <th></th>\n",
              "      <th></th>\n",
              "      <th></th>\n",
              "      <th></th>\n",
              "      <th></th>\n",
              "      <th></th>\n",
              "      <th></th>\n",
              "      <th></th>\n",
              "      <th></th>\n",
              "      <th></th>\n",
              "      <th></th>\n",
              "      <th></th>\n",
              "      <th></th>\n",
              "      <th></th>\n",
              "      <th></th>\n",
              "      <th></th>\n",
              "      <th></th>\n",
              "      <th></th>\n",
              "      <th></th>\n",
              "      <th></th>\n",
              "      <th></th>\n",
              "      <th></th>\n",
              "      <th></th>\n",
              "      <th></th>\n",
              "      <th></th>\n",
              "      <th></th>\n",
              "      <th></th>\n",
              "      <th></th>\n",
              "      <th></th>\n",
              "      <th></th>\n",
              "      <th></th>\n",
              "      <th></th>\n",
              "      <th></th>\n",
              "      <th></th>\n",
              "      <th></th>\n",
              "      <th></th>\n",
              "      <th></th>\n",
              "      <th></th>\n",
              "      <th></th>\n",
              "      <th></th>\n",
              "      <th></th>\n",
              "      <th></th>\n",
              "      <th></th>\n",
              "      <th></th>\n",
              "      <th></th>\n",
              "      <th></th>\n",
              "      <th></th>\n",
              "      <th></th>\n",
              "      <th></th>\n",
              "      <th></th>\n",
              "      <th></th>\n",
              "      <th></th>\n",
              "      <th></th>\n",
              "      <th></th>\n",
              "      <th></th>\n",
              "      <th></th>\n",
              "      <th></th>\n",
              "      <th></th>\n",
              "      <th></th>\n",
              "      <th></th>\n",
              "      <th></th>\n",
              "      <th></th>\n",
              "      <th></th>\n",
              "      <th></th>\n",
              "      <th></th>\n",
              "      <th></th>\n",
              "      <th></th>\n",
              "      <th></th>\n",
              "      <th></th>\n",
              "      <th></th>\n",
              "      <th></th>\n",
              "      <th></th>\n",
              "      <th></th>\n",
              "      <th></th>\n",
              "      <th></th>\n",
              "      <th></th>\n",
              "    </tr>\n",
              "  </thead>\n",
              "  <tbody>\n",
              "    <tr>\n",
              "      <th>Legendary</th>\n",
              "      <td>0</td>\n",
              "      <td>0</td>\n",
              "      <td>0</td>\n",
              "      <td>0</td>\n",
              "      <td>0</td>\n",
              "      <td>0</td>\n",
              "      <td>0</td>\n",
              "      <td>0</td>\n",
              "      <td>0</td>\n",
              "      <td>0</td>\n",
              "      <td>0</td>\n",
              "      <td>0</td>\n",
              "      <td>0</td>\n",
              "      <td>3</td>\n",
              "      <td>0</td>\n",
              "      <td>0</td>\n",
              "      <td>0</td>\n",
              "      <td>0</td>\n",
              "      <td>0</td>\n",
              "      <td>0</td>\n",
              "      <td>0</td>\n",
              "      <td>0</td>\n",
              "      <td>1</td>\n",
              "      <td>0</td>\n",
              "      <td>0</td>\n",
              "      <td>0</td>\n",
              "      <td>0</td>\n",
              "      <td>0</td>\n",
              "      <td>0</td>\n",
              "      <td>1</td>\n",
              "      <td>0</td>\n",
              "      <td>0</td>\n",
              "      <td>0</td>\n",
              "      <td>0</td>\n",
              "      <td>0</td>\n",
              "      <td>2</td>\n",
              "      <td>0</td>\n",
              "      <td>0</td>\n",
              "      <td>0</td>\n",
              "      <td>0</td>\n",
              "      <td>...</td>\n",
              "      <td>0</td>\n",
              "      <td>0</td>\n",
              "      <td>0</td>\n",
              "      <td>0</td>\n",
              "      <td>0</td>\n",
              "      <td>0</td>\n",
              "      <td>0</td>\n",
              "      <td>0</td>\n",
              "      <td>0</td>\n",
              "      <td>0</td>\n",
              "      <td>0</td>\n",
              "      <td>0</td>\n",
              "      <td>0</td>\n",
              "      <td>0</td>\n",
              "      <td>0</td>\n",
              "      <td>0</td>\n",
              "      <td>0</td>\n",
              "      <td>8</td>\n",
              "      <td>0</td>\n",
              "      <td>0</td>\n",
              "      <td>0</td>\n",
              "      <td>0</td>\n",
              "      <td>0</td>\n",
              "      <td>0</td>\n",
              "      <td>0</td>\n",
              "      <td>2</td>\n",
              "      <td>2</td>\n",
              "      <td>0</td>\n",
              "      <td>0</td>\n",
              "      <td>0</td>\n",
              "      <td>0</td>\n",
              "      <td>0</td>\n",
              "      <td>0</td>\n",
              "      <td>0</td>\n",
              "      <td>2</td>\n",
              "      <td>3</td>\n",
              "      <td>0</td>\n",
              "      <td>0</td>\n",
              "      <td>0</td>\n",
              "      <td>42</td>\n",
              "    </tr>\n",
              "    <tr>\n",
              "      <th>Mythical</th>\n",
              "      <td>0</td>\n",
              "      <td>0</td>\n",
              "      <td>0</td>\n",
              "      <td>0</td>\n",
              "      <td>0</td>\n",
              "      <td>0</td>\n",
              "      <td>0</td>\n",
              "      <td>0</td>\n",
              "      <td>0</td>\n",
              "      <td>0</td>\n",
              "      <td>0</td>\n",
              "      <td>0</td>\n",
              "      <td>0</td>\n",
              "      <td>1</td>\n",
              "      <td>0</td>\n",
              "      <td>0</td>\n",
              "      <td>0</td>\n",
              "      <td>0</td>\n",
              "      <td>0</td>\n",
              "      <td>0</td>\n",
              "      <td>0</td>\n",
              "      <td>0</td>\n",
              "      <td>0</td>\n",
              "      <td>0</td>\n",
              "      <td>0</td>\n",
              "      <td>0</td>\n",
              "      <td>0</td>\n",
              "      <td>0</td>\n",
              "      <td>0</td>\n",
              "      <td>1</td>\n",
              "      <td>0</td>\n",
              "      <td>0</td>\n",
              "      <td>0</td>\n",
              "      <td>0</td>\n",
              "      <td>0</td>\n",
              "      <td>0</td>\n",
              "      <td>0</td>\n",
              "      <td>0</td>\n",
              "      <td>0</td>\n",
              "      <td>0</td>\n",
              "      <td>...</td>\n",
              "      <td>0</td>\n",
              "      <td>2</td>\n",
              "      <td>2</td>\n",
              "      <td>0</td>\n",
              "      <td>0</td>\n",
              "      <td>0</td>\n",
              "      <td>0</td>\n",
              "      <td>0</td>\n",
              "      <td>1</td>\n",
              "      <td>0</td>\n",
              "      <td>1</td>\n",
              "      <td>0</td>\n",
              "      <td>0</td>\n",
              "      <td>0</td>\n",
              "      <td>0</td>\n",
              "      <td>0</td>\n",
              "      <td>0</td>\n",
              "      <td>0</td>\n",
              "      <td>0</td>\n",
              "      <td>3</td>\n",
              "      <td>0</td>\n",
              "      <td>0</td>\n",
              "      <td>1</td>\n",
              "      <td>0</td>\n",
              "      <td>0</td>\n",
              "      <td>0</td>\n",
              "      <td>0</td>\n",
              "      <td>0</td>\n",
              "      <td>0</td>\n",
              "      <td>0</td>\n",
              "      <td>0</td>\n",
              "      <td>0</td>\n",
              "      <td>0</td>\n",
              "      <td>0</td>\n",
              "      <td>0</td>\n",
              "      <td>0</td>\n",
              "      <td>0</td>\n",
              "      <td>0</td>\n",
              "      <td>0</td>\n",
              "      <td>30</td>\n",
              "    </tr>\n",
              "    <tr>\n",
              "      <th>Normal</th>\n",
              "      <td>14</td>\n",
              "      <td>4</td>\n",
              "      <td>3</td>\n",
              "      <td>10</td>\n",
              "      <td>2</td>\n",
              "      <td>8</td>\n",
              "      <td>14</td>\n",
              "      <td>4</td>\n",
              "      <td>14</td>\n",
              "      <td>10</td>\n",
              "      <td>5</td>\n",
              "      <td>25</td>\n",
              "      <td>17</td>\n",
              "      <td>10</td>\n",
              "      <td>13</td>\n",
              "      <td>1</td>\n",
              "      <td>31</td>\n",
              "      <td>12</td>\n",
              "      <td>6</td>\n",
              "      <td>6</td>\n",
              "      <td>5</td>\n",
              "      <td>2</td>\n",
              "      <td>6</td>\n",
              "      <td>2</td>\n",
              "      <td>9</td>\n",
              "      <td>3</td>\n",
              "      <td>4</td>\n",
              "      <td>15</td>\n",
              "      <td>1</td>\n",
              "      <td>5</td>\n",
              "      <td>5</td>\n",
              "      <td>3</td>\n",
              "      <td>17</td>\n",
              "      <td>12</td>\n",
              "      <td>8</td>\n",
              "      <td>6</td>\n",
              "      <td>5</td>\n",
              "      <td>5</td>\n",
              "      <td>9</td>\n",
              "      <td>5</td>\n",
              "      <td>...</td>\n",
              "      <td>2</td>\n",
              "      <td>3</td>\n",
              "      <td>7</td>\n",
              "      <td>5</td>\n",
              "      <td>6</td>\n",
              "      <td>7</td>\n",
              "      <td>0</td>\n",
              "      <td>3</td>\n",
              "      <td>2</td>\n",
              "      <td>1</td>\n",
              "      <td>3</td>\n",
              "      <td>5</td>\n",
              "      <td>5</td>\n",
              "      <td>10</td>\n",
              "      <td>2</td>\n",
              "      <td>10</td>\n",
              "      <td>4</td>\n",
              "      <td>1</td>\n",
              "      <td>7</td>\n",
              "      <td>0</td>\n",
              "      <td>9</td>\n",
              "      <td>3</td>\n",
              "      <td>6</td>\n",
              "      <td>3</td>\n",
              "      <td>10</td>\n",
              "      <td>2</td>\n",
              "      <td>4</td>\n",
              "      <td>5</td>\n",
              "      <td>4</td>\n",
              "      <td>3</td>\n",
              "      <td>8</td>\n",
              "      <td>3</td>\n",
              "      <td>4</td>\n",
              "      <td>4</td>\n",
              "      <td>2</td>\n",
              "      <td>7</td>\n",
              "      <td>4</td>\n",
              "      <td>4</td>\n",
              "      <td>9</td>\n",
              "      <td>918</td>\n",
              "    </tr>\n",
              "    <tr>\n",
              "      <th>Sub Legendary</th>\n",
              "      <td>0</td>\n",
              "      <td>0</td>\n",
              "      <td>0</td>\n",
              "      <td>1</td>\n",
              "      <td>0</td>\n",
              "      <td>0</td>\n",
              "      <td>1</td>\n",
              "      <td>0</td>\n",
              "      <td>0</td>\n",
              "      <td>0</td>\n",
              "      <td>1</td>\n",
              "      <td>0</td>\n",
              "      <td>0</td>\n",
              "      <td>0</td>\n",
              "      <td>0</td>\n",
              "      <td>0</td>\n",
              "      <td>0</td>\n",
              "      <td>0</td>\n",
              "      <td>0</td>\n",
              "      <td>1</td>\n",
              "      <td>0</td>\n",
              "      <td>0</td>\n",
              "      <td>1</td>\n",
              "      <td>0</td>\n",
              "      <td>0</td>\n",
              "      <td>0</td>\n",
              "      <td>0</td>\n",
              "      <td>0</td>\n",
              "      <td>0</td>\n",
              "      <td>0</td>\n",
              "      <td>0</td>\n",
              "      <td>0</td>\n",
              "      <td>1</td>\n",
              "      <td>0</td>\n",
              "      <td>0</td>\n",
              "      <td>4</td>\n",
              "      <td>0</td>\n",
              "      <td>0</td>\n",
              "      <td>0</td>\n",
              "      <td>0</td>\n",
              "      <td>...</td>\n",
              "      <td>0</td>\n",
              "      <td>0</td>\n",
              "      <td>0</td>\n",
              "      <td>0</td>\n",
              "      <td>0</td>\n",
              "      <td>2</td>\n",
              "      <td>1</td>\n",
              "      <td>0</td>\n",
              "      <td>2</td>\n",
              "      <td>0</td>\n",
              "      <td>0</td>\n",
              "      <td>1</td>\n",
              "      <td>0</td>\n",
              "      <td>2</td>\n",
              "      <td>0</td>\n",
              "      <td>2</td>\n",
              "      <td>2</td>\n",
              "      <td>1</td>\n",
              "      <td>2</td>\n",
              "      <td>1</td>\n",
              "      <td>1</td>\n",
              "      <td>0</td>\n",
              "      <td>1</td>\n",
              "      <td>1</td>\n",
              "      <td>1</td>\n",
              "      <td>0</td>\n",
              "      <td>4</td>\n",
              "      <td>0</td>\n",
              "      <td>0</td>\n",
              "      <td>1</td>\n",
              "      <td>0</td>\n",
              "      <td>0</td>\n",
              "      <td>1</td>\n",
              "      <td>0</td>\n",
              "      <td>0</td>\n",
              "      <td>1</td>\n",
              "      <td>0</td>\n",
              "      <td>0</td>\n",
              "      <td>0</td>\n",
              "      <td>55</td>\n",
              "    </tr>\n",
              "    <tr>\n",
              "      <th>total</th>\n",
              "      <td>14</td>\n",
              "      <td>4</td>\n",
              "      <td>3</td>\n",
              "      <td>11</td>\n",
              "      <td>2</td>\n",
              "      <td>8</td>\n",
              "      <td>15</td>\n",
              "      <td>4</td>\n",
              "      <td>14</td>\n",
              "      <td>10</td>\n",
              "      <td>6</td>\n",
              "      <td>25</td>\n",
              "      <td>17</td>\n",
              "      <td>14</td>\n",
              "      <td>13</td>\n",
              "      <td>1</td>\n",
              "      <td>31</td>\n",
              "      <td>12</td>\n",
              "      <td>6</td>\n",
              "      <td>7</td>\n",
              "      <td>5</td>\n",
              "      <td>2</td>\n",
              "      <td>8</td>\n",
              "      <td>2</td>\n",
              "      <td>9</td>\n",
              "      <td>3</td>\n",
              "      <td>4</td>\n",
              "      <td>15</td>\n",
              "      <td>1</td>\n",
              "      <td>7</td>\n",
              "      <td>5</td>\n",
              "      <td>3</td>\n",
              "      <td>18</td>\n",
              "      <td>12</td>\n",
              "      <td>8</td>\n",
              "      <td>12</td>\n",
              "      <td>5</td>\n",
              "      <td>5</td>\n",
              "      <td>9</td>\n",
              "      <td>5</td>\n",
              "      <td>...</td>\n",
              "      <td>2</td>\n",
              "      <td>5</td>\n",
              "      <td>9</td>\n",
              "      <td>5</td>\n",
              "      <td>6</td>\n",
              "      <td>9</td>\n",
              "      <td>1</td>\n",
              "      <td>3</td>\n",
              "      <td>5</td>\n",
              "      <td>1</td>\n",
              "      <td>4</td>\n",
              "      <td>6</td>\n",
              "      <td>5</td>\n",
              "      <td>12</td>\n",
              "      <td>2</td>\n",
              "      <td>12</td>\n",
              "      <td>6</td>\n",
              "      <td>10</td>\n",
              "      <td>9</td>\n",
              "      <td>4</td>\n",
              "      <td>10</td>\n",
              "      <td>3</td>\n",
              "      <td>8</td>\n",
              "      <td>4</td>\n",
              "      <td>11</td>\n",
              "      <td>4</td>\n",
              "      <td>10</td>\n",
              "      <td>5</td>\n",
              "      <td>4</td>\n",
              "      <td>4</td>\n",
              "      <td>8</td>\n",
              "      <td>3</td>\n",
              "      <td>5</td>\n",
              "      <td>4</td>\n",
              "      <td>4</td>\n",
              "      <td>11</td>\n",
              "      <td>4</td>\n",
              "      <td>4</td>\n",
              "      <td>9</td>\n",
              "      <td>1045</td>\n",
              "    </tr>\n",
              "  </tbody>\n",
              "</table>\n",
              "<p>5 rows × 135 columns</p>\n",
              "</div>"
            ],
            "text/plain": [
              "generation      1                             ...       8                  total\n",
              "type_1        Bug Dark Dragon Electric Fairy  ... Psychic Rock Steel Water      \n",
              "status                                        ...                               \n",
              "Legendary       0    0      0        0     0  ...       3    0     0     0    42\n",
              "Mythical        0    0      0        0     0  ...       0    0     0     0    30\n",
              "Normal         14    4      3       10     2  ...       7    4     4     9   918\n",
              "Sub Legendary   0    0      0        1     0  ...       1    0     0     0    55\n",
              "total          14    4      3       11     2  ...      11    4     4     9  1045\n",
              "\n",
              "[5 rows x 135 columns]"
            ]
          },
          "metadata": {
            "tags": []
          },
          "execution_count": 20
        }
      ]
    },
    {
      "cell_type": "markdown",
      "metadata": {
        "id": "AFK8_4KdgE3c"
      },
      "source": [
        "Tenemos un acercamiento al numero de pokémon por tipo primario que fueron introducidos en las diferentes generaciones. Utilicemos dos crosstab y creemos visualizaciones que nos permiten observar mejor la distribución por categorías:"
      ]
    },
    {
      "cell_type": "code",
      "metadata": {
        "id": "yY-FxdzQAT2S"
      },
      "source": [
        "crosstab1 = pd.crosstab(df_clean['type_1'],df_clean['status'])\n",
        "crosstab2 = pd.crosstab(df_clean['generation'],df_clean['status'])"
      ],
      "execution_count": 21,
      "outputs": []
    },
    {
      "cell_type": "markdown",
      "metadata": {
        "id": "e1FVUVGhh-Qh"
      },
      "source": [
        "El primer crosstab hace un conteo de los tipos por estatus del pokémon y el segundo hace un conteo de pokémon en las diferentes generaciones por estatus, si graficamos estos elementos:"
      ]
    },
    {
      "cell_type": "code",
      "metadata": {
        "id": "2GOldTys4hEe",
        "colab": {
          "base_uri": "https://localhost:8080/",
          "height": 906
        },
        "outputId": "a8de9477-5568-4d84-a65d-70b5a09dcdd1"
      },
      "source": [
        "fig, axes = plt.subplots(2, 2, figsize=(15, 15))\n",
        "\n",
        "index = crosstab1.index\n",
        "\n",
        "sns.barplot(x = index, y = crosstab1.loc[:,'Legendary'], ax=axes[0, 0])\n",
        "sns.barplot(x = index, y = crosstab1.loc[:,'Sub Legendary'], ax=axes[0, 1])\n",
        "sns.barplot(x = index, y = crosstab1.loc[:,'Mythical'], ax=axes[1, 0])\n",
        "sns.barplot(x = index, y = crosstab1.loc[:,'Normal'], ax=axes[1, 1])\n",
        "\n",
        "axes[0,0].set(xlabel='', ylabel='', title='Legendary')\n",
        "axes[0,1].set(xlabel='', ylabel='', title='Sub Legendary')\n",
        "axes[1,0].set(xlabel='', ylabel='', title='Mythical')\n",
        "axes[1,1].set(xlabel='', ylabel='', title='Normal')\n",
        "\n",
        "axes[0,0].set_xticklabels(axes[0,0].get_xticklabels(), rotation = 50);\n",
        "axes[0,1].set_xticklabels(axes[0,1].get_xticklabels(), rotation = 50);\n",
        "axes[1,0].set_xticklabels(axes[1,0].get_xticklabels(), rotation = 50);\n",
        "axes[1,1].set_xticklabels(axes[1,1].get_xticklabels(), rotation = 50);\n",
        "\n",
        "fig.suptitle('', fontsize=15);"
      ],
      "execution_count": 22,
      "outputs": [
        {
          "output_type": "display_data",
          "data": {
            "image/png": "[encoded data removed]",
            "text/plain": [
              "<Figure size 1080x1080 with 4 Axes>"
            ]
          },
          "metadata": {
            "tags": [],
            "needs_background": "light"
          }
        }
      ]
    },
    {
      "cell_type": "markdown",
      "metadata": {
        "id": "aCjl-4w8CsYh"
      },
      "source": [
        "Los resultados a los que podemos llegar son similares a los que obtuvimos al observar únicamente la tabla, pero un gráfico de barras es mucho más sencillo de leer y más llamativo."
      ]
    },
    {
      "cell_type": "code",
      "metadata": {
        "colab": {
          "base_uri": "https://localhost:8080/",
          "height": 879
        },
        "id": "dCoPcwfRiERt",
        "outputId": "369af6a4-6b62-48db-bf90-1c1d9f1ba736"
      },
      "source": [
        "fig, axes = plt.subplots(2, 2, figsize=(15, 15))\n",
        "\n",
        "index = crosstab2.index\n",
        "\n",
        "sns.barplot(x = index, y = crosstab2.loc[:,'Legendary'], ax=axes[0, 0])\n",
        "sns.barplot(x = index, y = crosstab2.loc[:,'Sub Legendary'], ax=axes[0, 1])\n",
        "sns.barplot(x = index, y = crosstab2.loc[:,'Mythical'], ax=axes[1, 0])\n",
        "sns.barplot(x = index, y = crosstab2.loc[:,'Normal'], ax=axes[1, 1])\n",
        "\n",
        "axes[0,0].set(xlabel='', ylabel='', title='Legendary')\n",
        "axes[0,1].set(xlabel='', ylabel='', title='Sub Legendary')\n",
        "axes[1,0].set(xlabel='', ylabel='', title='Mythical')\n",
        "axes[1,1].set(xlabel='', ylabel='', title='Normal')\n",
        "\n",
        "\n",
        "fig.suptitle('', fontsize=15);"
      ],
      "execution_count": 23,
      "outputs": [
        {
          "output_type": "display_data",
          "data": {
            "image/png": "[encoded data removed]",
            "text/plain": [
              "<Figure size 1080x1080 with 4 Axes>"
            ]
          },
          "metadata": {
            "tags": [],
            "needs_background": "light"
          }
        }
      ]
    },
    {
      "cell_type": "markdown",
      "metadata": {
        "id": "2-xUijCbiSFW"
      },
      "source": [
        "Observamos el número de pokémon por estatus que fueron introducidos en cada generación, la octava generación fue bastante generosa con sus legendarios y la sexta no incluyo sub-legendarios. Para observar la concentración de los datos en diferentes categorías definimos la siguiente función, esta toma los df filtrados con el IQR-Score:"
      ]
    },
    {
      "cell_type": "code",
      "metadata": {
        "id": "OtmV9skT95ni"
      },
      "source": [
        "def boxplot_categorico(campo,titulo,rotation):\n",
        "    plt.figure(figsize=(10, 10))\n",
        "    fig, axes = plt.subplots(3, 1, figsize=(10, 10), sharex=True)\n",
        "    #De las 8 variables numericos tomamos como ejemplo estas 3\n",
        "\n",
        "    sns.boxplot(data= IQR_df('height_m') , x=campo, y='height_m', ax=axes[0]);\n",
        "    sns.boxplot(data= IQR_df('weight_kg') , x=campo, y='weight_kg', ax=axes[1]);\n",
        "    sns.boxplot(data= IQR_df('total_points') , x=campo, y='total_points', ax=axes[2]);\n",
        "    \n",
        "    axes[0].set(xlabel='', ylabel='', title='Altura')\n",
        "    axes[1].set(xlabel='', ylabel='', title='Peso')\n",
        "    axes[2].set(xlabel='', ylabel='', title='Puntos totales')\n",
        "\n",
        "    axes[2].set_xticklabels(axes[2].get_xticklabels(), rotation = rotation);\n",
        "    fig.suptitle(f'Características de los pokémon por {titulo}', fontsize=15);   \n",
        "\n",
        "def IQR_df(campo):\n",
        "    iqr = df_clean[campo].quantile(0.75) - df_clean[campo].quantile(0.25)\n",
        "    quantil25= df_clean[campo].quantile(0.25) - (iqr * 1.5)\n",
        "    quantil75= df_clean[campo].quantile(0.75) + (iqr * 1.5)\n",
        "    filtro_inferior = df_clean[campo] > quantil25\n",
        "    filtro_superior = df_clean[campo] < quantil75\n",
        "    \n",
        "    df_filtrado = df_clean[filtro_inferior & filtro_superior]\n",
        "\n",
        "    return df_filtrado\n",
        " "
      ],
      "execution_count": 27,
      "outputs": []
    },
    {
      "cell_type": "markdown",
      "metadata": {
        "id": "TjALHCasi-91"
      },
      "source": [
        "Elegimos altura, peso y puntos totales como aquellas que describen mejor las características de un pokémon:"
      ]
    },
    {
      "cell_type": "code",
      "metadata": {
        "id": "7-H4xUvSHLL-",
        "colab": {
          "base_uri": "https://localhost:8080/",
          "height": 708
        },
        "outputId": "ba0cdfee-9c46-4fab-84a6-392af892e6c5"
      },
      "source": [
        "boxplot_categorico('type_1','tipo',50)"
      ],
      "execution_count": 28,
      "outputs": [
        {
          "output_type": "display_data",
          "data": {
            "text/plain": [
              "<Figure size 720x720 with 0 Axes>"
            ]
          },
          "metadata": {
            "tags": []
          }
        },
        {
          "output_type": "display_data",
          "data": {
            "image/png": "[encoded data removed]",
            "text/plain": [
              "<Figure size 720x720 with 3 Axes>"
            ]
          },
          "metadata": {
            "tags": [],
            "needs_background": "light"
          }
        }
      ]
    },
    {
      "cell_type": "markdown",
      "metadata": {
        "id": "Z8ORxvbZjG_A"
      },
      "source": [
        "Encontramos información muy interesante:\n",
        "- El tipo dragón suele tener valores más altos de altura, peso y puntos.\n",
        "- El tipo planta y el tipo hada corresponde a pokémon pequeños.\n",
        "- A pesar de que hay muchos pokémon tipo agua, sus puntos totales están concentrados en valores \"normales\"."
      ]
    },
    {
      "cell_type": "code",
      "metadata": {
        "id": "dPSjrfu6CZS2",
        "colab": {
          "base_uri": "https://localhost:8080/",
          "height": 680
        },
        "outputId": "cab4e991-8a59-4834-8c80-f0165089f39a"
      },
      "source": [
        "boxplot_categorico('generation','generación',0)"
      ],
      "execution_count": 29,
      "outputs": [
        {
          "output_type": "display_data",
          "data": {
            "text/plain": [
              "<Figure size 720x720 with 0 Axes>"
            ]
          },
          "metadata": {
            "tags": []
          }
        },
        {
          "output_type": "display_data",
          "data": {
            "image/png": "[encoded data removed]",
            "text/plain": [
              "<Figure size 720x720 with 3 Axes>"
            ]
          },
          "metadata": {
            "tags": [],
            "needs_background": "light"
          }
        }
      ]
    },
    {
      "cell_type": "markdown",
      "metadata": {
        "id": "ORXymVD3k0Fd"
      },
      "source": [
        "Si hablamos de generaciones:\n",
        "- La séptima nos brindó los pokémon con el mayor rango de puntos totales y la mediana más alta junto a la octava generación. \n",
        "- La cuarta generación nos dió a los pokémon más chiquitos  y la sexta a los más ligeros.\n",
        "- Los pokémon más altos están en la octava generación, esto debido a la introducción de la forma Dinamax.\n",
        "\n",
        "\n",
        "<p align=\"center\">\n",
        "<img src=\"https://i.ytimg.com/vi/6ACFHh-lRKo/maxresdefault.jpg\"  height =\"200\" width = \"300\">\n",
        "<p>"
      ]
    },
    {
      "cell_type": "markdown",
      "metadata": {
        "id": "rjOBuUvIllmh"
      },
      "source": [
        "Para finalizar, veamos distribuciones categóricas con la ayuda de violinplots:"
      ]
    },
    {
      "cell_type": "code",
      "metadata": {
        "id": "g5cq3f5ICiMw"
      },
      "source": [
        "def violinplot_categorico(campo,titulo):\n",
        "    plt.figure(figsize=(10, 10))\n",
        "    fig, axes = plt.subplots(3, 1, figsize=(10, 10), sharex=True)\n",
        "    #De las 8 variables numericos tomamos como ejemplo estas 3\n",
        "\n",
        "    sns.violinplot(data= IQR_df('hp') , x=campo, y='hp', ax=axes[0]);\n",
        "    sns.violinplot(data= IQR_df('attack') , x=campo, y='attack', ax=axes[1]);\n",
        "    sns.violinplot(data= IQR_df('defense') , x=campo, y='defense', ax=axes[2]);\n",
        "    \n",
        "    axes[0].set(xlabel='', ylabel='', title='Vida')\n",
        "    axes[1].set(xlabel='', ylabel='', title='Ataque')\n",
        "    axes[2].set(xlabel='', ylabel='', title='Defensa')\n",
        "\n",
        "    fig.suptitle(f'Estadisticas de los pokemon por {titulo}', fontsize=15); "
      ],
      "execution_count": 30,
      "outputs": []
    },
    {
      "cell_type": "code",
      "metadata": {
        "id": "KjLd_YZdDRTg",
        "colab": {
          "base_uri": "https://localhost:8080/",
          "height": 680
        },
        "outputId": "274b28e5-c5fe-41d4-a334-18dd567d1c79"
      },
      "source": [
        "violinplot_categorico('status','estatus')"
      ],
      "execution_count": 31,
      "outputs": [
        {
          "output_type": "display_data",
          "data": {
            "text/plain": [
              "<Figure size 720x720 with 0 Axes>"
            ]
          },
          "metadata": {
            "tags": []
          }
        },
        {
          "output_type": "display_data",
          "data": {
            "image/png": "[encoded data removed]",
            "text/plain": [
              "<Figure size 720x720 with 3 Axes>"
            ]
          },
          "metadata": {
            "tags": [],
            "needs_background": "light"
          }
        }
      ]
    },
    {
      "cell_type": "markdown",
      "metadata": {
        "id": "sck32tZNlrsI"
      },
      "source": [
        "Es claro que los pokémon normales suelen tener las estadísticas más bajas y los legendarios las más altas, seguidos por los pokémon míticos."
      ]
    }
  ]
}