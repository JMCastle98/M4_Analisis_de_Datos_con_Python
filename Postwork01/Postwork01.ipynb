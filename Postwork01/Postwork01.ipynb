{
  "nbformat": 4,
  "nbformat_minor": 0,
  "metadata": {
    "colab": {
      "name": "Postwork01.ipynb",
      "provenance": [],
      "collapsed_sections": [],
      "authorship_tag": "ABX9TyOSHDqhRzvr5q9UWaHtYMcL",
      "include_colab_link": true
    },
    "kernelspec": {
      "name": "python3",
      "display_name": "Python 3"
    },
    "language_info": {
      "name": "python"
    }
  },
  "cells": [
    {
      "cell_type": "markdown",
      "metadata": {
        "id": "view-in-github",
        "colab_type": "text"
      },
      "source": [
        "<a href=\"https://colab.research.google.com/github/JMCastle98/M4_Analisis_de_Datos_con_Python/blob/main/Postwork01/Postwork01.ipynb\" target=\"_parent\"><img src=\"https://colab.research.google.com/assets/colab-badge.svg\" alt=\"Open In Colab\"/></a>"
      ]
    },
    {
      "cell_type": "markdown",
      "metadata": {
        "id": "DDZ3V41qi3_m"
      },
      "source": [
        "## Fe de erratas 🙏: Cambio de tema del proyecto final\n",
        "\n",
        "<p align=\"center\">\n",
        "<img src=\"https://media1.tenor.com/images/f4dfba6861f151917aa8d895f19b84d9/tenor.gif?itemid=16694846\"  height =\"200\" width = \"300\">\n",
        "<p>\n",
        "\n",
        "Originalmente nos plantemos realizar un proyecto para analizar datos sobre insuficiencia cardíaca y buscar un modelo de predicción utilizando el dataset [Hear Failure Prediction](https://www.kaggle.com/andrewmvd/heart-failure-clinical-data) del usuario Larxel en Kaggle. Al principio pudimos obtener ciertos resultados con estimados númericos y gráficos de distribución. Sin embargo, el dataset tiene ciertas limitantes como:\n",
        "\n",
        "- Pocos datos: Menos de 300 registros\n",
        "- Muchas variables categóricas binarias: De los 13 campos que incluye el dataset, 6 son de tipo categórico binario y esto dificultaba ó entorpecia algunas herramientas de análisis como las tablas de contingencia.\n",
        "- Poca correlación entre las variables: A través del uso de un heatmap nos encontramos con que nuestra mejor correlación era de 0.16 y -0.19.\n",
        "\n",
        "Considerando estos puntos, nos desaninamos un poco y decidimos buscar otros datasets, pero todos eran muy parecidos al que ya teniamos. Después de meditarlo un poco como equipo, decidimos cambiar el tema de nuestro proyecto, pasamos por diferentes opciones como [Análisis de criptomonedas](https://www.kaggle.com/sudalairajkumar/cryptocurrencypricehistory), [Datos de CPU's y GPU's](https://www.kaggle.com/iliassekkaf/computerparts) y [Riesgo de defunción en empleos de México](http://www.stps.gob.mx/gobmx/estadisticas/riesgos.htm). Todos eran temas super interesantes, pero no podiamos explotarlos con las herramientas que aprendimos en el módulo. \n",
        "\n",
        "Finalmente, a modo de curiosidad, revisamos un dataset de [pokémon](https://www.kaggle.com/mariotormo/complete-pokemon-dataset-updated-090420) que había sido actualizado muy recientemente. Parecía una idea algo descabellada, pero conforme revisamos los datos que contenia se nos empezaron a ocurrir varias ideas, de igual forma recordamos que en el módulo pasado trabajamos con la [PokéAPI](https://pokeapi.co/), nuestros proyectos anteriores habían estado relacionados con videojuegos y este año la franquicia celebra su 25 aniversario, así que... ¿Por qué no intentarlo? De esta manera nos propusimos realizar un análisis de los datos que se pueden encontrar en la Pokédex y convertirnos en los mejores **~~maestros pokémon~~** analistas de datos , ¡mejores que nadie más!.\n",
        "\n",
        "\n",
        "<p align=\"center\">\n",
        "<img src=\"https://qph.fs.quoracdn.net/main-qimg-609283f9a315b4fc606c8c0e1c00071b\" height =\"200\" width = \"300\">\n",
        "<p>\n",
        "\n",
        "\n"
      ]
    },
    {
      "cell_type": "markdown",
      "metadata": {
        "id": "eNnhdI4gJ-s8"
      },
      "source": [
        "# Hablemos sobre pokémon\n",
        "\n",
        "La franquicia no necesita mucha presentación, desde febrero del año 1996, el juego de capturar criaturas y luchas junto a ellas para convertirte en el mejor se convirtió en toda una sensación. A lo largo de los años ha incurrido en diversas adaptaciones comos series animadas, mangas, cartas coleccionables y juguetes.\n",
        "\n",
        "<p align=\"center\">\n",
        "<img src=\"https://images.ctfassets.net/ycci6h8ksgtu/274nX0UsGgY2R66HKxCZQT/3c6c622e4bb4c0db93149285e49a16f9/25th_promo_2x_optimized.png\"  height =\"200\" width = \"250\">\n",
        "<p>\n",
        "\n",
        "La franquicia siempre se ha enfocado principalmente en los videojuegos, desde las primeras entregas para la Nintendo  Gameboy: Pokémon Red y Pokémon Green hasta las actuales versiones para Nintendo Switch: Pokémon Sword y Pokémon Shield han buscado mantener la esencia de la saga al incluir nuevas mecánicas de combate y sobretodo nuevos pokémon que llamaran la atención de los niños.\n",
        "\n",
        "<p align=\"center\">\n",
        "<img src=\"https://cdn.i-scmp.com/sites/default/files/styles/og_image_young_post/public/d8/yp/images/pokemon1.jpg?itok=WnaWpA5f\"  height =\"200\" width = \"300\">\n",
        "<p>\n",
        "\n",
        "En cada entrega podemos encontrar una gran diversidad de pokémon, cada uno con su propio tipo o tipos, acceso a gran diversidad de movimientos especiales y estrategias. Para lograr un sistema de combate lo más equilibrado posible que permitiera combinar todos estos aspectos, se le asignó a cada pokémon una seríe de estadísticas relacionadas con ciertos atributos como vida, ataque, defensa, velocidad entre otros, es decir, una forma de reconocer la fuerza de un pokémon y las posibles estrategias con las cuales combatir. \n",
        "\n",
        "<p align=\"center\">\n",
        "<img src=\"https://www.cpokemon.com/cutenews/data/upimages/platino_arceus_stats.png\"  height =\"200\" width = \"300\">\n",
        "<p>\n",
        "\n",
        "Para un jugador promedio, este tipo de información puede pasar desapercibida y el juego resultará igual de divertido. Sin embargo, la franquicia cuenta con una escena competitiva: [El Campeonato Mundial de Videojuegos Pokémon](https://pokemon.fandom.com/es/wiki/Campeonato_mundial_de_videojuegos_Pok%C3%A9mon).\n",
        "\n",
        "<p align=\"center\">\n",
        "<img src=\"https://static.wikia.nocookie.net/espokemon/images/9/94/Campeonato_mundial_de_videojuegos.png/revision/latest/scale-to-width-down/600?cb=20170228002738\n",
        "\"  height =\"300\" width = \"300\">\n",
        "<p>\n",
        "\n",
        "Donde los jugadores entablan combates con sus pokémon más fuertes, resultados de un fuerte análisis de los datos de cada pokémon, así como un profundo entendimiento de las mecánicas del juego y el sistema de entrenamiento. He aquí la importancia de las estadísticas de cada pokémon, con ellas podemos encontrar a los más fuertes o a los más debiles, a los más rápidos o a los más grandes. El mundo pokémon tiene grandes sopresas que estamos a punto de descubrir.\n",
        "\n"
      ]
    },
    {
      "cell_type": "markdown",
      "metadata": {
        "id": "b1Qf-HWGEnf6"
      },
      "source": [
        "# Sobre el dataset\n",
        "\n",
        "Como primer paso, conozcamos mejor la información que contiene nuestro dataset. El autor [Mario Tormo Romero](https://www.kaggle.com/mariotormo) es un científico de datos alemán que tomó como inspiración la afición de la franquicia de su hijo al buscar un proyecto con el que realizar análisis exploratorio de datos. Así conforme se encontró con algunos datasets se dio cuenta de que la mayoría estaban desactualizados o tenian incompletos algunos datos relacionados a las estadísticas individuales de cada pokémon. Entonces decidió expandir su proyecto para incluir un poco de minería de datos web.\n",
        "\n",
        "<p align=\"center\">\n",
        "<img src=\"https://storage.googleapis.com/kaggle-avatars/images/4285867-kg.jpg\"  height =\"200\" width = \"200\">\n",
        "<p>\n",
        "\n",
        "\n",
        "Utilizando Python Web Crawler recolectó y organizó datos de la [base de datos pokémon](https://pokemondb.net/) y [serebii](https://www.serebii.net/) de los más de 800 pokémon que existían en el momento que publicó el dataset por primera vez, recientemente actualizó por última vez el dataset el 16 de Abril del 2021 con datos de la última expansión del juego más reciente de la franquicia: [Pokémon Sword & Shield](https://swordshield.pokemon.com/es-mx/). Mario menciona que con este dataset espera podamos practicar y mejorar nuestras habilidades de análisis de datos.\n",
        "\n",
        "\n",
        "<p align=\"center\">\n",
        "<img src=\"https://images-na.ssl-images-amazon.com/images/I/61rALXW-dSL._SL1280_.jpg\"  height =\"200\" width = \"250\">\n",
        "<p>\n",
        "\n",
        "\n"
      ]
    },
    {
      "cell_type": "markdown",
      "metadata": {
        "id": "wcA3MrBzIzsO"
      },
      "source": [
        "# ¿Qué información podemos encontrar en un dataset sobre pokémon?\n",
        "\n",
        "El dataset contiene información de 898 pokémon (1044 incluyendo formas regionales) en 51 campos y está organizada en 5 grupos:\n",
        "\n",
        "<p align=\"center\">\n",
        "<img src=\"https://powergamingnetwork.com/wp-content/uploads/2018/05/013.png\"  height =\"200\" width = \"250\">\n",
        "<p>\n",
        "\n",
        "- Datos de la pokédex: Información que se despliega generalmente en la entrada de la pokédex de los juegos.\n",
        "      - Número de la pokédex: Número de entrada en la pokédex nacional.\n",
        "      - Nombre: El nombre del pokémon en inglés (global).\n",
        "      - Nombre en alemán: El nombre del pokémon en alemán.\n",
        "      - Nombre en Japónes: El nombre del pokémon en japónes.\n",
        "      - Generación: El número de la generación (1-8) donde se introdujo al pokémon por primera vez.\n",
        "      - Estatus: Denota si el pokémon es legendario, sub-legendario, mítico o normal.\n",
        "      - Especie: Indica la categoría del pokémon.\n",
        "      - Número de tipos: Número de tipos que el pokémon tiene (1-2).\n",
        "      - Tipo 1: El tipo primario del pokémon.\n",
        "      - Tipo 2: El tipo secundario del pokémon (sí cuenta con uno).\n",
        "      - Altura: Altura del pokémon en metros.\n",
        "      - Peso: Peso del pokémon en kilogramos.\n",
        "      - Número de habilidades: Número de habilidades a las que el pokémon puede acceder. \n",
        "      - Habilidad 1: Nombre de la primer habilidad que el pokémon puede adquirir.\n",
        "      - Habilidad 2: Nombre de la segunda habilidad que el pokémon puede adquirir (Sí cuenta con una).\n",
        "      - Habilidad oculta: Nombre de la habilidad oculta que el pokémon puede adquirir (Sí cuenta con una).\n",
        "\n",
        "\n",
        "<p align=\"center\">\n",
        "<img src=\"http://pkmn.net/games/emerald/lightball2.PNG\"  height =\"200\" width = \"250\">\n",
        "<p>\n",
        "\n",
        "\n",
        "- Estadísticas base: Indican la fortaleza de cada pokémon y varian de acuerdo al nivel o forma evolutiva, por esto se toman en cuenta al nivel 1 en cualquier forma.\n",
        "      - Puntos totales: Suma ponderada de los puntos base.\n",
        "      - Puntos de vida: Vida base del pokémon.\n",
        "      - Ataque: Ataque base del pokémon.\n",
        "      - Defensa: Defensa base del pokémon.\n",
        "      - Ataque especial: Ataque especial base del pokémon.\n",
        "      - Defensa especial: Defensa especial base del pokémon.\n",
        "      - Velocidad: Velocidad base del pokémon.\n",
        "\n",
        "<p align=\"center\">\n",
        "<img src=\"https://i1.wp.com/www.sopitas.com/wp-content/uploads/2016/10/bulbasaur-captura.gif\"  height =\"200\" width = \"250\">\n",
        "<p>\n",
        "\n",
        "- Entrenamiento: Datos relacionados con la posibilidad de capturar, mejorar las estadísticas y evolucionar de un pokémon. \n",
        "       - Ratio de captura: Parámetro utilizado para calcular la probabilidad de éxito al capturar un pokémon.\n",
        "       - Amistad: Amistad base del pokémon.\n",
        "       - Experiencia base: Experiencia base del pokémon en estaso salvaje al ser capturado.\n",
        "       - Ratio de crecimiento: Cantidad de experiencia necesaria para subir de nivel.\n",
        "\n",
        "<p align=\"center\">\n",
        "<img src=\"https://cdn2.bulbagarden.net/upload/thumb/0/0a/ExpGraphLv100.png/800px-ExpGraphLv100.png\"  height =\"200\" width = \"250\">\n",
        "<p>\n",
        "\n",
        "\n",
        "- Crianza: Datos relacionados con el procedimiento de crianza de pokémon.\n",
        "       - Número de grupos huevo: Con cuantos grupos huevos puede criar el pokémon.\n",
        "       - Grupos huevo: Nombre de los grupos huevo compatibles.\n",
        "       - Porcentaje de género masculino: Porcentaje de pokémon criados que resultan ser de género masculino durante el proceso de crianza (Valor en blanco si el pokémon no posee género).\n",
        "       - Ciclos huevo: Número de ciclos (255-257 pasos) requeridos para eclocionar un huevo pokémon.\n",
        "\n",
        "<p align=\"center\">\n",
        "<img src=\"https://64.media.tumblr.com/tumblr_m1m6ws6hsz1r2mho4o1_500.gif\"  height =\"200\" width = \"250\">\n",
        "<p>\n",
        "\n",
        "- Debilidad de tipo: Efectividad de los ataques de cierto tipo contra la combinación de tipos del pokémon.\n",
        "       - En contra de: 18 elementos que denotan la cantidad de daños recibido por ataques de cierto tipo.\n",
        "\n",
        "<p align=\"center\">\n",
        "<img src=\"https://i.pinimg.com/originals/0d/eb/1d/0deb1d9f5c679deba21c869bb6a66e83.png\"  height =\"200\" width = \"250\">\n",
        "    \n"
      ]
    },
    {
      "cell_type": "markdown",
      "metadata": {
        "id": "tit6gJW2bnYQ"
      },
      "source": [
        "# Limpieza del dataset\n",
        "\n",
        "Ahora que sabemos lo que podemos esperar del dataset, debemos elegir los campos más adecuados para un análisis y verificar que no tengamos datos nulos o incompletos."
      ]
    },
    {
      "cell_type": "code",
      "metadata": {
        "id": "NVlHb4uqGqiQ"
      },
      "source": [
        "import pandas as pd\n",
        "#Importamos una copia desde nuestro repositorio en github\n",
        "df = pd.read_csv(\"https://raw.githubusercontent.com/JMCastle98/M4_Analisis_de_Datos_con_Python/main/Dataset/pokedex.csv\", index_col=0)"
      ],
      "execution_count": 1,
      "outputs": []
    },
    {
      "cell_type": "code",
      "metadata": {
        "colab": {
          "base_uri": "https://localhost:8080/",
          "height": 261
        },
        "id": "aokhBpPGwPOO",
        "outputId": "9020eaa5-9d64-4aee-b633-701ebfcfc448"
      },
      "source": [
        "df.head(4)"
      ],
      "execution_count": 2,
      "outputs": [
        {
          "output_type": "execute_result",
          "data": {
            "text/html": [
              "<div>\n",
              "<style scoped>\n",
              "    .dataframe tbody tr th:only-of-type {\n",
              "        vertical-align: middle;\n",
              "    }\n",
              "\n",
              "    .dataframe tbody tr th {\n",
              "        vertical-align: top;\n",
              "    }\n",
              "\n",
              "    .dataframe thead th {\n",
              "        text-align: right;\n",
              "    }\n",
              "</style>\n",
              "<table border=\"1\" class=\"dataframe\">\n",
              "  <thead>\n",
              "    <tr style=\"text-align: right;\">\n",
              "      <th></th>\n",
              "      <th>pokedex_number</th>\n",
              "      <th>name</th>\n",
              "      <th>german_name</th>\n",
              "      <th>japanese_name</th>\n",
              "      <th>generation</th>\n",
              "      <th>status</th>\n",
              "      <th>species</th>\n",
              "      <th>type_number</th>\n",
              "      <th>type_1</th>\n",
              "      <th>type_2</th>\n",
              "      <th>height_m</th>\n",
              "      <th>weight_kg</th>\n",
              "      <th>abilities_number</th>\n",
              "      <th>ability_1</th>\n",
              "      <th>ability_2</th>\n",
              "      <th>ability_hidden</th>\n",
              "      <th>total_points</th>\n",
              "      <th>hp</th>\n",
              "      <th>attack</th>\n",
              "      <th>defense</th>\n",
              "      <th>sp_attack</th>\n",
              "      <th>sp_defense</th>\n",
              "      <th>speed</th>\n",
              "      <th>catch_rate</th>\n",
              "      <th>base_friendship</th>\n",
              "      <th>base_experience</th>\n",
              "      <th>growth_rate</th>\n",
              "      <th>egg_type_number</th>\n",
              "      <th>egg_type_1</th>\n",
              "      <th>egg_type_2</th>\n",
              "      <th>percentage_male</th>\n",
              "      <th>egg_cycles</th>\n",
              "      <th>against_normal</th>\n",
              "      <th>against_fire</th>\n",
              "      <th>against_water</th>\n",
              "      <th>against_electric</th>\n",
              "      <th>against_grass</th>\n",
              "      <th>against_ice</th>\n",
              "      <th>against_fight</th>\n",
              "      <th>against_poison</th>\n",
              "      <th>against_ground</th>\n",
              "      <th>against_flying</th>\n",
              "      <th>against_psychic</th>\n",
              "      <th>against_bug</th>\n",
              "      <th>against_rock</th>\n",
              "      <th>against_ghost</th>\n",
              "      <th>against_dragon</th>\n",
              "      <th>against_dark</th>\n",
              "      <th>against_steel</th>\n",
              "      <th>against_fairy</th>\n",
              "    </tr>\n",
              "  </thead>\n",
              "  <tbody>\n",
              "    <tr>\n",
              "      <th>0</th>\n",
              "      <td>1</td>\n",
              "      <td>Bulbasaur</td>\n",
              "      <td>Bisasam</td>\n",
              "      <td>フシギダネ (Fushigidane)</td>\n",
              "      <td>1</td>\n",
              "      <td>Normal</td>\n",
              "      <td>Seed Pokémon</td>\n",
              "      <td>2</td>\n",
              "      <td>Grass</td>\n",
              "      <td>Poison</td>\n",
              "      <td>0.7</td>\n",
              "      <td>6.9</td>\n",
              "      <td>2</td>\n",
              "      <td>Overgrow</td>\n",
              "      <td>NaN</td>\n",
              "      <td>Chlorophyll</td>\n",
              "      <td>318</td>\n",
              "      <td>45</td>\n",
              "      <td>49</td>\n",
              "      <td>49</td>\n",
              "      <td>65</td>\n",
              "      <td>65</td>\n",
              "      <td>45</td>\n",
              "      <td>45.0</td>\n",
              "      <td>70.0</td>\n",
              "      <td>64.0</td>\n",
              "      <td>Medium Slow</td>\n",
              "      <td>2</td>\n",
              "      <td>Grass</td>\n",
              "      <td>Monster</td>\n",
              "      <td>87.5</td>\n",
              "      <td>20.0</td>\n",
              "      <td>1.0</td>\n",
              "      <td>2.0</td>\n",
              "      <td>0.5</td>\n",
              "      <td>0.5</td>\n",
              "      <td>0.25</td>\n",
              "      <td>2.0</td>\n",
              "      <td>0.5</td>\n",
              "      <td>1.0</td>\n",
              "      <td>1.0</td>\n",
              "      <td>2.0</td>\n",
              "      <td>2.0</td>\n",
              "      <td>1.0</td>\n",
              "      <td>1.0</td>\n",
              "      <td>1.0</td>\n",
              "      <td>1.0</td>\n",
              "      <td>1.0</td>\n",
              "      <td>1.0</td>\n",
              "      <td>0.5</td>\n",
              "    </tr>\n",
              "    <tr>\n",
              "      <th>1</th>\n",
              "      <td>2</td>\n",
              "      <td>Ivysaur</td>\n",
              "      <td>Bisaknosp</td>\n",
              "      <td>フシギソウ (Fushigisou)</td>\n",
              "      <td>1</td>\n",
              "      <td>Normal</td>\n",
              "      <td>Seed Pokémon</td>\n",
              "      <td>2</td>\n",
              "      <td>Grass</td>\n",
              "      <td>Poison</td>\n",
              "      <td>1.0</td>\n",
              "      <td>13.0</td>\n",
              "      <td>2</td>\n",
              "      <td>Overgrow</td>\n",
              "      <td>NaN</td>\n",
              "      <td>Chlorophyll</td>\n",
              "      <td>405</td>\n",
              "      <td>60</td>\n",
              "      <td>62</td>\n",
              "      <td>63</td>\n",
              "      <td>80</td>\n",
              "      <td>80</td>\n",
              "      <td>60</td>\n",
              "      <td>45.0</td>\n",
              "      <td>70.0</td>\n",
              "      <td>142.0</td>\n",
              "      <td>Medium Slow</td>\n",
              "      <td>2</td>\n",
              "      <td>Grass</td>\n",
              "      <td>Monster</td>\n",
              "      <td>87.5</td>\n",
              "      <td>20.0</td>\n",
              "      <td>1.0</td>\n",
              "      <td>2.0</td>\n",
              "      <td>0.5</td>\n",
              "      <td>0.5</td>\n",
              "      <td>0.25</td>\n",
              "      <td>2.0</td>\n",
              "      <td>0.5</td>\n",
              "      <td>1.0</td>\n",
              "      <td>1.0</td>\n",
              "      <td>2.0</td>\n",
              "      <td>2.0</td>\n",
              "      <td>1.0</td>\n",
              "      <td>1.0</td>\n",
              "      <td>1.0</td>\n",
              "      <td>1.0</td>\n",
              "      <td>1.0</td>\n",
              "      <td>1.0</td>\n",
              "      <td>0.5</td>\n",
              "    </tr>\n",
              "    <tr>\n",
              "      <th>2</th>\n",
              "      <td>3</td>\n",
              "      <td>Venusaur</td>\n",
              "      <td>Bisaflor</td>\n",
              "      <td>フシギバナ (Fushigibana)</td>\n",
              "      <td>1</td>\n",
              "      <td>Normal</td>\n",
              "      <td>Seed Pokémon</td>\n",
              "      <td>2</td>\n",
              "      <td>Grass</td>\n",
              "      <td>Poison</td>\n",
              "      <td>2.0</td>\n",
              "      <td>100.0</td>\n",
              "      <td>2</td>\n",
              "      <td>Overgrow</td>\n",
              "      <td>NaN</td>\n",
              "      <td>Chlorophyll</td>\n",
              "      <td>525</td>\n",
              "      <td>80</td>\n",
              "      <td>82</td>\n",
              "      <td>83</td>\n",
              "      <td>100</td>\n",
              "      <td>100</td>\n",
              "      <td>80</td>\n",
              "      <td>45.0</td>\n",
              "      <td>70.0</td>\n",
              "      <td>236.0</td>\n",
              "      <td>Medium Slow</td>\n",
              "      <td>2</td>\n",
              "      <td>Grass</td>\n",
              "      <td>Monster</td>\n",
              "      <td>87.5</td>\n",
              "      <td>20.0</td>\n",
              "      <td>1.0</td>\n",
              "      <td>2.0</td>\n",
              "      <td>0.5</td>\n",
              "      <td>0.5</td>\n",
              "      <td>0.25</td>\n",
              "      <td>2.0</td>\n",
              "      <td>0.5</td>\n",
              "      <td>1.0</td>\n",
              "      <td>1.0</td>\n",
              "      <td>2.0</td>\n",
              "      <td>2.0</td>\n",
              "      <td>1.0</td>\n",
              "      <td>1.0</td>\n",
              "      <td>1.0</td>\n",
              "      <td>1.0</td>\n",
              "      <td>1.0</td>\n",
              "      <td>1.0</td>\n",
              "      <td>0.5</td>\n",
              "    </tr>\n",
              "    <tr>\n",
              "      <th>3</th>\n",
              "      <td>3</td>\n",
              "      <td>Mega Venusaur</td>\n",
              "      <td>Bisaflor</td>\n",
              "      <td>フシギバナ (Fushigibana)</td>\n",
              "      <td>1</td>\n",
              "      <td>Normal</td>\n",
              "      <td>Seed Pokémon</td>\n",
              "      <td>2</td>\n",
              "      <td>Grass</td>\n",
              "      <td>Poison</td>\n",
              "      <td>2.4</td>\n",
              "      <td>155.5</td>\n",
              "      <td>1</td>\n",
              "      <td>Thick Fat</td>\n",
              "      <td>NaN</td>\n",
              "      <td>NaN</td>\n",
              "      <td>625</td>\n",
              "      <td>80</td>\n",
              "      <td>100</td>\n",
              "      <td>123</td>\n",
              "      <td>122</td>\n",
              "      <td>120</td>\n",
              "      <td>80</td>\n",
              "      <td>45.0</td>\n",
              "      <td>70.0</td>\n",
              "      <td>281.0</td>\n",
              "      <td>Medium Slow</td>\n",
              "      <td>2</td>\n",
              "      <td>Grass</td>\n",
              "      <td>Monster</td>\n",
              "      <td>87.5</td>\n",
              "      <td>20.0</td>\n",
              "      <td>1.0</td>\n",
              "      <td>1.0</td>\n",
              "      <td>0.5</td>\n",
              "      <td>0.5</td>\n",
              "      <td>0.25</td>\n",
              "      <td>1.0</td>\n",
              "      <td>0.5</td>\n",
              "      <td>1.0</td>\n",
              "      <td>1.0</td>\n",
              "      <td>2.0</td>\n",
              "      <td>2.0</td>\n",
              "      <td>1.0</td>\n",
              "      <td>1.0</td>\n",
              "      <td>1.0</td>\n",
              "      <td>1.0</td>\n",
              "      <td>1.0</td>\n",
              "      <td>1.0</td>\n",
              "      <td>0.5</td>\n",
              "    </tr>\n",
              "  </tbody>\n",
              "</table>\n",
              "</div>"
            ],
            "text/plain": [
              "   pokedex_number           name  ... against_steel against_fairy\n",
              "0               1      Bulbasaur  ...           1.0           0.5\n",
              "1               2        Ivysaur  ...           1.0           0.5\n",
              "2               3       Venusaur  ...           1.0           0.5\n",
              "3               3  Mega Venusaur  ...           1.0           0.5\n",
              "\n",
              "[4 rows x 50 columns]"
            ]
          },
          "metadata": {
            "tags": []
          },
          "execution_count": 2
        }
      ]
    },
    {
      "cell_type": "markdown",
      "metadata": {
        "id": "9QDjP6OPc8r1"
      },
      "source": [
        "Observamos que las primeras 3 entradas de nuestro ~~pokédex~~ dataset corresponden a la línea evolutiva de Bulbasaur y se muestran los campos antes descritos. Realizar el análisis con 51 campos es una tarea complicada por lo que decidimos retirar algunos como:\n",
        "\n",
        "- Nombres en alemán y japónes. \n",
        "- Campos relacionados a las habilidades del pokémon.\n",
        "- Experiencia base y amistad base. \n",
        "- Campos de crianza.\n",
        "- Campos de debilidades.\n",
        "\n",
        "Pensamos que estos datos no nos son del todo útiles para el tipo de análisis que queremos realizar y por ello nos quedamos con los siguientes:\n"
      ]
    },
    {
      "cell_type": "code",
      "metadata": {
        "id": "0KWHEodu4KqD"
      },
      "source": [
        "df_aux = df[['pokedex_number',\n",
        "               'name','generation',\n",
        "               'status', 'species', \n",
        "               'type_number', 'type_1', 'type_2', \n",
        "               'height_m', 'weight_kg',\n",
        "               'total_points','hp','attack',\n",
        "               'defense','sp_attack','sp_defense',\n",
        "               'speed','catch_rate','growth_rate']]"
      ],
      "execution_count": 3,
      "outputs": []
    },
    {
      "cell_type": "markdown",
      "metadata": {
        "id": "H8AtkOvAfiDf"
      },
      "source": [
        "Observemos el dataframe resultante:"
      ]
    },
    {
      "cell_type": "code",
      "metadata": {
        "colab": {
          "base_uri": "https://localhost:8080/",
          "height": 677
        },
        "id": "TuYldXTj8VI6",
        "outputId": "30b42378-02ed-4bee-b365-d9c28dc23fae"
      },
      "source": [
        "df_aux"
      ],
      "execution_count": 4,
      "outputs": [
        {
          "output_type": "execute_result",
          "data": {
            "text/html": [
              "<div>\n",
              "<style scoped>\n",
              "    .dataframe tbody tr th:only-of-type {\n",
              "        vertical-align: middle;\n",
              "    }\n",
              "\n",
              "    .dataframe tbody tr th {\n",
              "        vertical-align: top;\n",
              "    }\n",
              "\n",
              "    .dataframe thead th {\n",
              "        text-align: right;\n",
              "    }\n",
              "</style>\n",
              "<table border=\"1\" class=\"dataframe\">\n",
              "  <thead>\n",
              "    <tr style=\"text-align: right;\">\n",
              "      <th></th>\n",
              "      <th>pokedex_number</th>\n",
              "      <th>name</th>\n",
              "      <th>generation</th>\n",
              "      <th>status</th>\n",
              "      <th>species</th>\n",
              "      <th>type_number</th>\n",
              "      <th>type_1</th>\n",
              "      <th>type_2</th>\n",
              "      <th>height_m</th>\n",
              "      <th>weight_kg</th>\n",
              "      <th>total_points</th>\n",
              "      <th>hp</th>\n",
              "      <th>attack</th>\n",
              "      <th>defense</th>\n",
              "      <th>sp_attack</th>\n",
              "      <th>sp_defense</th>\n",
              "      <th>speed</th>\n",
              "      <th>catch_rate</th>\n",
              "      <th>growth_rate</th>\n",
              "    </tr>\n",
              "  </thead>\n",
              "  <tbody>\n",
              "    <tr>\n",
              "      <th>0</th>\n",
              "      <td>1</td>\n",
              "      <td>Bulbasaur</td>\n",
              "      <td>1</td>\n",
              "      <td>Normal</td>\n",
              "      <td>Seed Pokémon</td>\n",
              "      <td>2</td>\n",
              "      <td>Grass</td>\n",
              "      <td>Poison</td>\n",
              "      <td>0.7</td>\n",
              "      <td>6.9</td>\n",
              "      <td>318</td>\n",
              "      <td>45</td>\n",
              "      <td>49</td>\n",
              "      <td>49</td>\n",
              "      <td>65</td>\n",
              "      <td>65</td>\n",
              "      <td>45</td>\n",
              "      <td>45.0</td>\n",
              "      <td>Medium Slow</td>\n",
              "    </tr>\n",
              "    <tr>\n",
              "      <th>1</th>\n",
              "      <td>2</td>\n",
              "      <td>Ivysaur</td>\n",
              "      <td>1</td>\n",
              "      <td>Normal</td>\n",
              "      <td>Seed Pokémon</td>\n",
              "      <td>2</td>\n",
              "      <td>Grass</td>\n",
              "      <td>Poison</td>\n",
              "      <td>1.0</td>\n",
              "      <td>13.0</td>\n",
              "      <td>405</td>\n",
              "      <td>60</td>\n",
              "      <td>62</td>\n",
              "      <td>63</td>\n",
              "      <td>80</td>\n",
              "      <td>80</td>\n",
              "      <td>60</td>\n",
              "      <td>45.0</td>\n",
              "      <td>Medium Slow</td>\n",
              "    </tr>\n",
              "    <tr>\n",
              "      <th>2</th>\n",
              "      <td>3</td>\n",
              "      <td>Venusaur</td>\n",
              "      <td>1</td>\n",
              "      <td>Normal</td>\n",
              "      <td>Seed Pokémon</td>\n",
              "      <td>2</td>\n",
              "      <td>Grass</td>\n",
              "      <td>Poison</td>\n",
              "      <td>2.0</td>\n",
              "      <td>100.0</td>\n",
              "      <td>525</td>\n",
              "      <td>80</td>\n",
              "      <td>82</td>\n",
              "      <td>83</td>\n",
              "      <td>100</td>\n",
              "      <td>100</td>\n",
              "      <td>80</td>\n",
              "      <td>45.0</td>\n",
              "      <td>Medium Slow</td>\n",
              "    </tr>\n",
              "    <tr>\n",
              "      <th>3</th>\n",
              "      <td>3</td>\n",
              "      <td>Mega Venusaur</td>\n",
              "      <td>1</td>\n",
              "      <td>Normal</td>\n",
              "      <td>Seed Pokémon</td>\n",
              "      <td>2</td>\n",
              "      <td>Grass</td>\n",
              "      <td>Poison</td>\n",
              "      <td>2.4</td>\n",
              "      <td>155.5</td>\n",
              "      <td>625</td>\n",
              "      <td>80</td>\n",
              "      <td>100</td>\n",
              "      <td>123</td>\n",
              "      <td>122</td>\n",
              "      <td>120</td>\n",
              "      <td>80</td>\n",
              "      <td>45.0</td>\n",
              "      <td>Medium Slow</td>\n",
              "    </tr>\n",
              "    <tr>\n",
              "      <th>4</th>\n",
              "      <td>4</td>\n",
              "      <td>Charmander</td>\n",
              "      <td>1</td>\n",
              "      <td>Normal</td>\n",
              "      <td>Lizard Pokémon</td>\n",
              "      <td>1</td>\n",
              "      <td>Fire</td>\n",
              "      <td>NaN</td>\n",
              "      <td>0.6</td>\n",
              "      <td>8.5</td>\n",
              "      <td>309</td>\n",
              "      <td>39</td>\n",
              "      <td>52</td>\n",
              "      <td>43</td>\n",
              "      <td>60</td>\n",
              "      <td>50</td>\n",
              "      <td>65</td>\n",
              "      <td>45.0</td>\n",
              "      <td>Medium Slow</td>\n",
              "    </tr>\n",
              "    <tr>\n",
              "      <th>...</th>\n",
              "      <td>...</td>\n",
              "      <td>...</td>\n",
              "      <td>...</td>\n",
              "      <td>...</td>\n",
              "      <td>...</td>\n",
              "      <td>...</td>\n",
              "      <td>...</td>\n",
              "      <td>...</td>\n",
              "      <td>...</td>\n",
              "      <td>...</td>\n",
              "      <td>...</td>\n",
              "      <td>...</td>\n",
              "      <td>...</td>\n",
              "      <td>...</td>\n",
              "      <td>...</td>\n",
              "      <td>...</td>\n",
              "      <td>...</td>\n",
              "      <td>...</td>\n",
              "      <td>...</td>\n",
              "    </tr>\n",
              "    <tr>\n",
              "      <th>1040</th>\n",
              "      <td>896</td>\n",
              "      <td>Glastrier</td>\n",
              "      <td>8</td>\n",
              "      <td>Sub Legendary</td>\n",
              "      <td>Wild Horse Pokémon</td>\n",
              "      <td>1</td>\n",
              "      <td>Ice</td>\n",
              "      <td>NaN</td>\n",
              "      <td>2.2</td>\n",
              "      <td>800.0</td>\n",
              "      <td>580</td>\n",
              "      <td>100</td>\n",
              "      <td>145</td>\n",
              "      <td>130</td>\n",
              "      <td>65</td>\n",
              "      <td>110</td>\n",
              "      <td>30</td>\n",
              "      <td>3.0</td>\n",
              "      <td>Slow</td>\n",
              "    </tr>\n",
              "    <tr>\n",
              "      <th>1041</th>\n",
              "      <td>897</td>\n",
              "      <td>Spectrier</td>\n",
              "      <td>8</td>\n",
              "      <td>Sub Legendary</td>\n",
              "      <td>Swift Horse Pokémon</td>\n",
              "      <td>1</td>\n",
              "      <td>Ghost</td>\n",
              "      <td>NaN</td>\n",
              "      <td>2.0</td>\n",
              "      <td>44.5</td>\n",
              "      <td>580</td>\n",
              "      <td>100</td>\n",
              "      <td>65</td>\n",
              "      <td>60</td>\n",
              "      <td>145</td>\n",
              "      <td>80</td>\n",
              "      <td>130</td>\n",
              "      <td>3.0</td>\n",
              "      <td>Slow</td>\n",
              "    </tr>\n",
              "    <tr>\n",
              "      <th>1042</th>\n",
              "      <td>898</td>\n",
              "      <td>Calyrex</td>\n",
              "      <td>8</td>\n",
              "      <td>Legendary</td>\n",
              "      <td>King Pokémon</td>\n",
              "      <td>2</td>\n",
              "      <td>Psychic</td>\n",
              "      <td>Grass</td>\n",
              "      <td>1.1</td>\n",
              "      <td>7.7</td>\n",
              "      <td>500</td>\n",
              "      <td>100</td>\n",
              "      <td>80</td>\n",
              "      <td>80</td>\n",
              "      <td>80</td>\n",
              "      <td>80</td>\n",
              "      <td>80</td>\n",
              "      <td>3.0</td>\n",
              "      <td>Slow</td>\n",
              "    </tr>\n",
              "    <tr>\n",
              "      <th>1043</th>\n",
              "      <td>898</td>\n",
              "      <td>Calyrex Ice Rider</td>\n",
              "      <td>8</td>\n",
              "      <td>Legendary</td>\n",
              "      <td>High King Pokémon</td>\n",
              "      <td>2</td>\n",
              "      <td>Psychic</td>\n",
              "      <td>Ice</td>\n",
              "      <td>2.4</td>\n",
              "      <td>809.1</td>\n",
              "      <td>680</td>\n",
              "      <td>100</td>\n",
              "      <td>165</td>\n",
              "      <td>150</td>\n",
              "      <td>85</td>\n",
              "      <td>130</td>\n",
              "      <td>50</td>\n",
              "      <td>3.0</td>\n",
              "      <td>Slow</td>\n",
              "    </tr>\n",
              "    <tr>\n",
              "      <th>1044</th>\n",
              "      <td>898</td>\n",
              "      <td>Calyrex Shadow Rider</td>\n",
              "      <td>8</td>\n",
              "      <td>Legendary</td>\n",
              "      <td>High King Pokémon</td>\n",
              "      <td>2</td>\n",
              "      <td>Psychic</td>\n",
              "      <td>Ghost</td>\n",
              "      <td>2.4</td>\n",
              "      <td>53.6</td>\n",
              "      <td>680</td>\n",
              "      <td>100</td>\n",
              "      <td>85</td>\n",
              "      <td>80</td>\n",
              "      <td>165</td>\n",
              "      <td>100</td>\n",
              "      <td>150</td>\n",
              "      <td>3.0</td>\n",
              "      <td>Slow</td>\n",
              "    </tr>\n",
              "  </tbody>\n",
              "</table>\n",
              "<p>1045 rows × 19 columns</p>\n",
              "</div>"
            ],
            "text/plain": [
              "      pokedex_number                  name  ...  catch_rate  growth_rate\n",
              "0                  1             Bulbasaur  ...        45.0  Medium Slow\n",
              "1                  2               Ivysaur  ...        45.0  Medium Slow\n",
              "2                  3              Venusaur  ...        45.0  Medium Slow\n",
              "3                  3         Mega Venusaur  ...        45.0  Medium Slow\n",
              "4                  4            Charmander  ...        45.0  Medium Slow\n",
              "...              ...                   ...  ...         ...          ...\n",
              "1040             896             Glastrier  ...         3.0         Slow\n",
              "1041             897             Spectrier  ...         3.0         Slow\n",
              "1042             898               Calyrex  ...         3.0         Slow\n",
              "1043             898     Calyrex Ice Rider  ...         3.0         Slow\n",
              "1044             898  Calyrex Shadow Rider  ...         3.0         Slow\n",
              "\n",
              "[1045 rows x 19 columns]"
            ]
          },
          "metadata": {
            "tags": []
          },
          "execution_count": 4
        }
      ]
    },
    {
      "cell_type": "markdown",
      "metadata": {
        "id": "8cb0eqpffn9T"
      },
      "source": [
        "¡Mucho mejor! Ahora tenemos los campos suficientes para describir las características y fortalezas de un pokémon. Sin embargo... ¿Qué es eso que veo? ¡¿Acaso son NaNs?!\n",
        "\n",
        "<p align=\"center\">\n",
        "<img src=\"https://i.kym-cdn.com/photos/images/newsfeed/001/049/745/e5a.gif\"  height =\"200\" width = \"250\">\n",
        "<p>\n"
      ]
    },
    {
      "cell_type": "code",
      "metadata": {
        "colab": {
          "base_uri": "https://localhost:8080/"
        },
        "id": "_h9fGHbz1VCz",
        "outputId": "93ea8a7f-583c-499c-f42b-32bf4ac34657"
      },
      "source": [
        "df_aux.info() "
      ],
      "execution_count": 5,
      "outputs": [
        {
          "output_type": "stream",
          "text": [
            "<class 'pandas.core.frame.DataFrame'>\n",
            "Int64Index: 1045 entries, 0 to 1044\n",
            "Data columns (total 19 columns):\n",
            " #   Column          Non-Null Count  Dtype  \n",
            "---  ------          --------------  -----  \n",
            " 0   pokedex_number  1045 non-null   int64  \n",
            " 1   name            1045 non-null   object \n",
            " 2   generation      1045 non-null   int64  \n",
            " 3   status          1045 non-null   object \n",
            " 4   species         1045 non-null   object \n",
            " 5   type_number     1045 non-null   int64  \n",
            " 6   type_1          1045 non-null   object \n",
            " 7   type_2          553 non-null    object \n",
            " 8   height_m        1045 non-null   float64\n",
            " 9   weight_kg       1044 non-null   float64\n",
            " 10  total_points    1045 non-null   int64  \n",
            " 11  hp              1045 non-null   int64  \n",
            " 12  attack          1045 non-null   int64  \n",
            " 13  defense         1045 non-null   int64  \n",
            " 14  sp_attack       1045 non-null   int64  \n",
            " 15  sp_defense      1045 non-null   int64  \n",
            " 16  speed           1045 non-null   int64  \n",
            " 17  catch_rate      1027 non-null   float64\n",
            " 18  growth_rate     1044 non-null   object \n",
            "dtypes: float64(3), int64(10), object(6)\n",
            "memory usage: 163.3+ KB\n"
          ],
          "name": "stdout"
        }
      ]
    },
    {
      "cell_type": "markdown",
      "metadata": {
        "id": "VHayG0clg8qg"
      },
      "source": [
        "Efectivamente tenemos unos cuantos valores NaNs en el dataset, haremos lo posible para limpiarlos."
      ]
    },
    {
      "cell_type": "code",
      "metadata": {
        "colab": {
          "base_uri": "https://localhost:8080/"
        },
        "id": "8ErmSsa0reDp",
        "outputId": "096b1e53-9c9a-42f5-c08e-0fca92ac7d79"
      },
      "source": [
        "df_aux.isnull().sum()"
      ],
      "execution_count": 6,
      "outputs": [
        {
          "output_type": "execute_result",
          "data": {
            "text/plain": [
              "pokedex_number      0\n",
              "name                0\n",
              "generation          0\n",
              "status              0\n",
              "species             0\n",
              "type_number         0\n",
              "type_1              0\n",
              "type_2            492\n",
              "height_m            0\n",
              "weight_kg           1\n",
              "total_points        0\n",
              "hp                  0\n",
              "attack              0\n",
              "defense             0\n",
              "sp_attack           0\n",
              "sp_defense          0\n",
              "speed               0\n",
              "catch_rate         18\n",
              "growth_rate         1\n",
              "dtype: int64"
            ]
          },
          "metadata": {
            "tags": []
          },
          "execution_count": 6
        }
      ]
    },
    {
      "cell_type": "markdown",
      "metadata": {
        "id": "n3rGQ1eHcgAA"
      },
      "source": [
        "Lo primero que salta a la vista son los 492 valores NaN en el tipo secundario de los pokémon, esto debido a que algunos pokemon solo tienen un tipo principal, asi que para rellenar los NaNs estableceremos su segundo tipo como \"None\"."
      ]
    },
    {
      "cell_type": "code",
      "metadata": {
        "id": "kUtW7slsM_b5"
      },
      "source": [
        "df_clean = df_aux.copy(deep=True)"
      ],
      "execution_count": 7,
      "outputs": []
    },
    {
      "cell_type": "code",
      "metadata": {
        "id": "WQWjX_fNsGka"
      },
      "source": [
        "df_clean['type_2'] = df_aux['type_2'].fillna('None')"
      ],
      "execution_count": 8,
      "outputs": []
    },
    {
      "cell_type": "code",
      "metadata": {
        "colab": {
          "base_uri": "https://localhost:8080/"
        },
        "id": "QCRy608SNEY3",
        "outputId": "1137d4bc-53cb-4345-fb45-b1b4208c78c5"
      },
      "source": [
        "df_clean.isnull().sum()"
      ],
      "execution_count": 9,
      "outputs": [
        {
          "output_type": "execute_result",
          "data": {
            "text/plain": [
              "pokedex_number     0\n",
              "name               0\n",
              "generation         0\n",
              "status             0\n",
              "species            0\n",
              "type_number        0\n",
              "type_1             0\n",
              "type_2             0\n",
              "height_m           0\n",
              "weight_kg          1\n",
              "total_points       0\n",
              "hp                 0\n",
              "attack             0\n",
              "defense            0\n",
              "sp_attack          0\n",
              "sp_defense         0\n",
              "speed              0\n",
              "catch_rate        18\n",
              "growth_rate        1\n",
              "dtype: int64"
            ]
          },
          "metadata": {
            "tags": []
          },
          "execution_count": 9
        }
      ]
    },
    {
      "cell_type": "markdown",
      "metadata": {
        "id": "9znPj9W8NErv"
      },
      "source": [
        "Ya que nos encargamos de los NaNs en el tipo secundario, veamos que pasa con el peso:"
      ]
    },
    {
      "cell_type": "code",
      "metadata": {
        "id": "ukD4zE5qsRA2",
        "colab": {
          "base_uri": "https://localhost:8080/",
          "height": 117
        },
        "outputId": "f781481b-ab76-4d2b-cfed-fdd679ff9168"
      },
      "source": [
        "df_clean[ df['weight_kg'].isnull()]"
      ],
      "execution_count": 10,
      "outputs": [
        {
          "output_type": "execute_result",
          "data": {
            "text/html": [
              "<div>\n",
              "<style scoped>\n",
              "    .dataframe tbody tr th:only-of-type {\n",
              "        vertical-align: middle;\n",
              "    }\n",
              "\n",
              "    .dataframe tbody tr th {\n",
              "        vertical-align: top;\n",
              "    }\n",
              "\n",
              "    .dataframe thead th {\n",
              "        text-align: right;\n",
              "    }\n",
              "</style>\n",
              "<table border=\"1\" class=\"dataframe\">\n",
              "  <thead>\n",
              "    <tr style=\"text-align: right;\">\n",
              "      <th></th>\n",
              "      <th>pokedex_number</th>\n",
              "      <th>name</th>\n",
              "      <th>generation</th>\n",
              "      <th>status</th>\n",
              "      <th>species</th>\n",
              "      <th>type_number</th>\n",
              "      <th>type_1</th>\n",
              "      <th>type_2</th>\n",
              "      <th>height_m</th>\n",
              "      <th>weight_kg</th>\n",
              "      <th>total_points</th>\n",
              "      <th>hp</th>\n",
              "      <th>attack</th>\n",
              "      <th>defense</th>\n",
              "      <th>sp_attack</th>\n",
              "      <th>sp_defense</th>\n",
              "      <th>speed</th>\n",
              "      <th>catch_rate</th>\n",
              "      <th>growth_rate</th>\n",
              "    </tr>\n",
              "  </thead>\n",
              "  <tbody>\n",
              "    <tr>\n",
              "      <th>1033</th>\n",
              "      <td>890</td>\n",
              "      <td>Eternatus Eternamax</td>\n",
              "      <td>8</td>\n",
              "      <td>Legendary</td>\n",
              "      <td>Gigantic Pokémon</td>\n",
              "      <td>2</td>\n",
              "      <td>Poison</td>\n",
              "      <td>Dragon</td>\n",
              "      <td>100.0</td>\n",
              "      <td>NaN</td>\n",
              "      <td>1125</td>\n",
              "      <td>255</td>\n",
              "      <td>115</td>\n",
              "      <td>250</td>\n",
              "      <td>125</td>\n",
              "      <td>250</td>\n",
              "      <td>130</td>\n",
              "      <td>NaN</td>\n",
              "      <td>Slow</td>\n",
              "    </tr>\n",
              "  </tbody>\n",
              "</table>\n",
              "</div>"
            ],
            "text/plain": [
              "      pokedex_number                 name  ...  catch_rate growth_rate\n",
              "1033             890  Eternatus Eternamax  ...         NaN        Slow\n",
              "\n",
              "[1 rows x 19 columns]"
            ]
          },
          "metadata": {
            "tags": []
          },
          "execution_count": 10
        }
      ]
    },
    {
      "cell_type": "markdown",
      "metadata": {
        "id": "FZdUUd30ci21"
      },
      "source": [
        "Eternatus es un pokemon legendario que en su forma Dinamax crece al menos 5 veces en tamaño, sin embargo, dentro de los metadatos del juego (a.k.a la pokédex) al ser gigantesco su peso viene indicado como **???**. Para no dejar cabos sueltos estableceremos su peso como 5 veces su peso normal, es decir, 4750 kg.   \n",
        "\n",
        "<p align=\"center\">\n",
        "<img src=\"https://www.serebii.net/swordshield/pokemon/890.png\"  height =\"200\" width = \"250\">\n",
        "<p>\n",
        "\n",
        "<p align=\"center\">\n",
        "<img src=\"https://www.serebii.net/swordshield/pokemon/890-e.png\"  height =\"200\" width = \"250\">\n",
        "<p>"
      ]
    },
    {
      "cell_type": "code",
      "metadata": {
        "id": "8qRGKD1xcmZ9"
      },
      "source": [
        "df_clean['weight_kg'] = df_aux['weight_kg'].fillna(4750)"
      ],
      "execution_count": 11,
      "outputs": []
    },
    {
      "cell_type": "code",
      "metadata": {
        "colab": {
          "base_uri": "https://localhost:8080/"
        },
        "id": "jTSPK1q3cnhN",
        "outputId": "6f5ca06e-5f50-4531-fb41-b870cde18dec"
      },
      "source": [
        "df_clean.isnull().sum()"
      ],
      "execution_count": 12,
      "outputs": [
        {
          "output_type": "execute_result",
          "data": {
            "text/plain": [
              "pokedex_number     0\n",
              "name               0\n",
              "generation         0\n",
              "status             0\n",
              "species            0\n",
              "type_number        0\n",
              "type_1             0\n",
              "type_2             0\n",
              "height_m           0\n",
              "weight_kg          0\n",
              "total_points       0\n",
              "hp                 0\n",
              "attack             0\n",
              "defense            0\n",
              "sp_attack          0\n",
              "sp_defense         0\n",
              "speed              0\n",
              "catch_rate        18\n",
              "growth_rate        1\n",
              "dtype: int64"
            ]
          },
          "metadata": {
            "tags": []
          },
          "execution_count": 12
        }
      ]
    },
    {
      "cell_type": "markdown",
      "metadata": {
        "id": "Prf67j5UNVKk"
      },
      "source": [
        "El siguiente valor nulo lo encontramos en el ratio de crecimiento:"
      ]
    },
    {
      "cell_type": "code",
      "metadata": {
        "colab": {
          "base_uri": "https://localhost:8080/",
          "height": 134
        },
        "id": "S67_zUHycouU",
        "outputId": "1dd6d711-54ec-40d8-e925-6f1970d87a75"
      },
      "source": [
        "df_clean[ df['growth_rate'].isnull()]"
      ],
      "execution_count": 13,
      "outputs": [
        {
          "output_type": "execute_result",
          "data": {
            "text/html": [
              "<div>\n",
              "<style scoped>\n",
              "    .dataframe tbody tr th:only-of-type {\n",
              "        vertical-align: middle;\n",
              "    }\n",
              "\n",
              "    .dataframe tbody tr th {\n",
              "        vertical-align: top;\n",
              "    }\n",
              "\n",
              "    .dataframe thead th {\n",
              "        text-align: right;\n",
              "    }\n",
              "</style>\n",
              "<table border=\"1\" class=\"dataframe\">\n",
              "  <thead>\n",
              "    <tr style=\"text-align: right;\">\n",
              "      <th></th>\n",
              "      <th>pokedex_number</th>\n",
              "      <th>name</th>\n",
              "      <th>generation</th>\n",
              "      <th>status</th>\n",
              "      <th>species</th>\n",
              "      <th>type_number</th>\n",
              "      <th>type_1</th>\n",
              "      <th>type_2</th>\n",
              "      <th>height_m</th>\n",
              "      <th>weight_kg</th>\n",
              "      <th>total_points</th>\n",
              "      <th>hp</th>\n",
              "      <th>attack</th>\n",
              "      <th>defense</th>\n",
              "      <th>sp_attack</th>\n",
              "      <th>sp_defense</th>\n",
              "      <th>speed</th>\n",
              "      <th>catch_rate</th>\n",
              "      <th>growth_rate</th>\n",
              "    </tr>\n",
              "  </thead>\n",
              "  <tbody>\n",
              "    <tr>\n",
              "      <th>658</th>\n",
              "      <td>555</td>\n",
              "      <td>Galarian Darmanitan Zen Mode</td>\n",
              "      <td>5</td>\n",
              "      <td>Normal</td>\n",
              "      <td>Zen Charm Pokémon</td>\n",
              "      <td>2</td>\n",
              "      <td>Ice</td>\n",
              "      <td>Fire</td>\n",
              "      <td>1.7</td>\n",
              "      <td>120.0</td>\n",
              "      <td>540</td>\n",
              "      <td>105</td>\n",
              "      <td>160</td>\n",
              "      <td>55</td>\n",
              "      <td>30</td>\n",
              "      <td>55</td>\n",
              "      <td>135</td>\n",
              "      <td>NaN</td>\n",
              "      <td>NaN</td>\n",
              "    </tr>\n",
              "  </tbody>\n",
              "</table>\n",
              "</div>"
            ],
            "text/plain": [
              "     pokedex_number                          name  ...  catch_rate growth_rate\n",
              "658             555  Galarian Darmanitan Zen Mode  ...         NaN         NaN\n",
              "\n",
              "[1 rows x 19 columns]"
            ]
          },
          "metadata": {
            "tags": []
          },
          "execution_count": 13
        }
      ]
    },
    {
      "cell_type": "markdown",
      "metadata": {
        "id": "pzORvG4jcqlv"
      },
      "source": [
        "La forma Zen del Darmanitan de Galar tiene un pequeño error en su ratio de crecimiento, en general todas las formas de un Darmanitan comparten el mismo tipo de crecimiento: \"Medium Slow\"\n",
        "\n",
        "<p align=\"center\">\n",
        "<img src=\"https://images.gameinfo.io/pokemon/256/555-32.png\"  height =\"250\" width = \"250\">\n",
        "<p>"
      ]
    },
    {
      "cell_type": "code",
      "metadata": {
        "id": "A8zfalw8crSY"
      },
      "source": [
        "df_clean['growth_rate'] = df_aux['growth_rate'].fillna('Medium Slow')"
      ],
      "execution_count": 14,
      "outputs": []
    },
    {
      "cell_type": "code",
      "metadata": {
        "colab": {
          "base_uri": "https://localhost:8080/"
        },
        "id": "h0Lw1q1YctLJ",
        "outputId": "f872a017-eee6-4833-c464-0dfb28062dba"
      },
      "source": [
        "df_clean.isnull().sum()"
      ],
      "execution_count": 15,
      "outputs": [
        {
          "output_type": "execute_result",
          "data": {
            "text/plain": [
              "pokedex_number     0\n",
              "name               0\n",
              "generation         0\n",
              "status             0\n",
              "species            0\n",
              "type_number        0\n",
              "type_1             0\n",
              "type_2             0\n",
              "height_m           0\n",
              "weight_kg          0\n",
              "total_points       0\n",
              "hp                 0\n",
              "attack             0\n",
              "defense            0\n",
              "sp_attack          0\n",
              "sp_defense         0\n",
              "speed              0\n",
              "catch_rate        18\n",
              "growth_rate        0\n",
              "dtype: int64"
            ]
          },
          "metadata": {
            "tags": []
          },
          "execution_count": 15
        }
      ]
    },
    {
      "cell_type": "markdown",
      "metadata": {
        "id": "PxX-XdaCcv1V"
      },
      "source": [
        "En cuanto a los valores nulos en el el campo \"catch_rate\" ,para algunos pokémon de la region de Galar, encontramos en [serebii](https://www.serebii.net/) (una de las fuentes originales del autor) que dichos valores existen para los pokémon de la lista, pero el valor no fue añadido o no se agregó correctamente. Arreglaremos esto de forma manual:"
      ]
    },
    {
      "cell_type": "code",
      "metadata": {
        "colab": {
          "base_uri": "https://localhost:8080/",
          "height": 1000
        },
        "id": "Wa68m0Amcwdd",
        "outputId": "28bea35e-30e9-48c4-84b5-ba95ba0cd9fc"
      },
      "source": [
        "df_aux[ df['catch_rate'].isnull()]"
      ],
      "execution_count": 16,
      "outputs": [
        {
          "output_type": "execute_result",
          "data": {
            "text/html": [
              "<div>\n",
              "<style scoped>\n",
              "    .dataframe tbody tr th:only-of-type {\n",
              "        vertical-align: middle;\n",
              "    }\n",
              "\n",
              "    .dataframe tbody tr th {\n",
              "        vertical-align: top;\n",
              "    }\n",
              "\n",
              "    .dataframe thead th {\n",
              "        text-align: right;\n",
              "    }\n",
              "</style>\n",
              "<table border=\"1\" class=\"dataframe\">\n",
              "  <thead>\n",
              "    <tr style=\"text-align: right;\">\n",
              "      <th></th>\n",
              "      <th>pokedex_number</th>\n",
              "      <th>name</th>\n",
              "      <th>generation</th>\n",
              "      <th>status</th>\n",
              "      <th>species</th>\n",
              "      <th>type_number</th>\n",
              "      <th>type_1</th>\n",
              "      <th>type_2</th>\n",
              "      <th>height_m</th>\n",
              "      <th>weight_kg</th>\n",
              "      <th>total_points</th>\n",
              "      <th>hp</th>\n",
              "      <th>attack</th>\n",
              "      <th>defense</th>\n",
              "      <th>sp_attack</th>\n",
              "      <th>sp_defense</th>\n",
              "      <th>speed</th>\n",
              "      <th>catch_rate</th>\n",
              "      <th>growth_rate</th>\n",
              "    </tr>\n",
              "  </thead>\n",
              "  <tbody>\n",
              "    <tr>\n",
              "      <th>69</th>\n",
              "      <td>52</td>\n",
              "      <td>Galarian Meowth</td>\n",
              "      <td>1</td>\n",
              "      <td>Normal</td>\n",
              "      <td>Scratch Cat Pokémon</td>\n",
              "      <td>1</td>\n",
              "      <td>Steel</td>\n",
              "      <td>NaN</td>\n",
              "      <td>0.4</td>\n",
              "      <td>7.5</td>\n",
              "      <td>290</td>\n",
              "      <td>50</td>\n",
              "      <td>65</td>\n",
              "      <td>55</td>\n",
              "      <td>40</td>\n",
              "      <td>40</td>\n",
              "      <td>40</td>\n",
              "      <td>NaN</td>\n",
              "      <td>Medium Fast</td>\n",
              "    </tr>\n",
              "    <tr>\n",
              "      <th>100</th>\n",
              "      <td>77</td>\n",
              "      <td>Galarian Ponyta</td>\n",
              "      <td>1</td>\n",
              "      <td>Normal</td>\n",
              "      <td>Unique Horn Pokémon</td>\n",
              "      <td>1</td>\n",
              "      <td>Psychic</td>\n",
              "      <td>NaN</td>\n",
              "      <td>0.8</td>\n",
              "      <td>24.0</td>\n",
              "      <td>410</td>\n",
              "      <td>50</td>\n",
              "      <td>85</td>\n",
              "      <td>55</td>\n",
              "      <td>65</td>\n",
              "      <td>65</td>\n",
              "      <td>90</td>\n",
              "      <td>NaN</td>\n",
              "      <td>Medium Fast</td>\n",
              "    </tr>\n",
              "    <tr>\n",
              "      <th>102</th>\n",
              "      <td>78</td>\n",
              "      <td>Galarian Rapidash</td>\n",
              "      <td>1</td>\n",
              "      <td>Normal</td>\n",
              "      <td>Unique Horn Pokémon</td>\n",
              "      <td>2</td>\n",
              "      <td>Psychic</td>\n",
              "      <td>Fairy</td>\n",
              "      <td>1.7</td>\n",
              "      <td>80.0</td>\n",
              "      <td>500</td>\n",
              "      <td>65</td>\n",
              "      <td>100</td>\n",
              "      <td>70</td>\n",
              "      <td>80</td>\n",
              "      <td>80</td>\n",
              "      <td>105</td>\n",
              "      <td>NaN</td>\n",
              "      <td>Medium Fast</td>\n",
              "    </tr>\n",
              "    <tr>\n",
              "      <th>111</th>\n",
              "      <td>83</td>\n",
              "      <td>Galarian Farfetch'd</td>\n",
              "      <td>1</td>\n",
              "      <td>Normal</td>\n",
              "      <td>Wild Duck Pokémon</td>\n",
              "      <td>1</td>\n",
              "      <td>Fighting</td>\n",
              "      <td>NaN</td>\n",
              "      <td>0.8</td>\n",
              "      <td>42.0</td>\n",
              "      <td>377</td>\n",
              "      <td>52</td>\n",
              "      <td>95</td>\n",
              "      <td>55</td>\n",
              "      <td>58</td>\n",
              "      <td>62</td>\n",
              "      <td>55</td>\n",
              "      <td>NaN</td>\n",
              "      <td>Medium Fast</td>\n",
              "    </tr>\n",
              "    <tr>\n",
              "      <th>144</th>\n",
              "      <td>110</td>\n",
              "      <td>Galarian Weezing</td>\n",
              "      <td>1</td>\n",
              "      <td>Normal</td>\n",
              "      <td>Poison Gas Pokémon</td>\n",
              "      <td>2</td>\n",
              "      <td>Poison</td>\n",
              "      <td>Fairy</td>\n",
              "      <td>3.0</td>\n",
              "      <td>16.0</td>\n",
              "      <td>490</td>\n",
              "      <td>65</td>\n",
              "      <td>90</td>\n",
              "      <td>120</td>\n",
              "      <td>85</td>\n",
              "      <td>70</td>\n",
              "      <td>60</td>\n",
              "      <td>NaN</td>\n",
              "      <td>Medium Fast</td>\n",
              "    </tr>\n",
              "    <tr>\n",
              "      <th>158</th>\n",
              "      <td>122</td>\n",
              "      <td>Galarian Mr. Mime</td>\n",
              "      <td>1</td>\n",
              "      <td>Normal</td>\n",
              "      <td>Dancing Pokémon</td>\n",
              "      <td>2</td>\n",
              "      <td>Psychic</td>\n",
              "      <td>Ice</td>\n",
              "      <td>1.4</td>\n",
              "      <td>56.8</td>\n",
              "      <td>460</td>\n",
              "      <td>50</td>\n",
              "      <td>65</td>\n",
              "      <td>65</td>\n",
              "      <td>90</td>\n",
              "      <td>90</td>\n",
              "      <td>100</td>\n",
              "      <td>NaN</td>\n",
              "      <td>Medium Fast</td>\n",
              "    </tr>\n",
              "    <tr>\n",
              "      <th>273</th>\n",
              "      <td>222</td>\n",
              "      <td>Galarian Corsola</td>\n",
              "      <td>2</td>\n",
              "      <td>Normal</td>\n",
              "      <td>Coral Pokémon</td>\n",
              "      <td>1</td>\n",
              "      <td>Ghost</td>\n",
              "      <td>NaN</td>\n",
              "      <td>0.6</td>\n",
              "      <td>0.5</td>\n",
              "      <td>410</td>\n",
              "      <td>60</td>\n",
              "      <td>55</td>\n",
              "      <td>100</td>\n",
              "      <td>65</td>\n",
              "      <td>100</td>\n",
              "      <td>30</td>\n",
              "      <td>NaN</td>\n",
              "      <td>Fast</td>\n",
              "    </tr>\n",
              "    <tr>\n",
              "      <th>320</th>\n",
              "      <td>263</td>\n",
              "      <td>Galarian Zigzagoon</td>\n",
              "      <td>3</td>\n",
              "      <td>Normal</td>\n",
              "      <td>Tiny Raccoon Pokémon</td>\n",
              "      <td>2</td>\n",
              "      <td>Dark</td>\n",
              "      <td>Normal</td>\n",
              "      <td>0.4</td>\n",
              "      <td>17.5</td>\n",
              "      <td>240</td>\n",
              "      <td>38</td>\n",
              "      <td>30</td>\n",
              "      <td>41</td>\n",
              "      <td>30</td>\n",
              "      <td>41</td>\n",
              "      <td>60</td>\n",
              "      <td>NaN</td>\n",
              "      <td>Medium Fast</td>\n",
              "    </tr>\n",
              "    <tr>\n",
              "      <th>322</th>\n",
              "      <td>264</td>\n",
              "      <td>Galarian Linoone</td>\n",
              "      <td>3</td>\n",
              "      <td>Normal</td>\n",
              "      <td>Rushing Pokémon</td>\n",
              "      <td>2</td>\n",
              "      <td>Dark</td>\n",
              "      <td>Normal</td>\n",
              "      <td>0.5</td>\n",
              "      <td>32.5</td>\n",
              "      <td>420</td>\n",
              "      <td>78</td>\n",
              "      <td>70</td>\n",
              "      <td>61</td>\n",
              "      <td>50</td>\n",
              "      <td>61</td>\n",
              "      <td>100</td>\n",
              "      <td>NaN</td>\n",
              "      <td>Medium Fast</td>\n",
              "    </tr>\n",
              "    <tr>\n",
              "      <th>654</th>\n",
              "      <td>554</td>\n",
              "      <td>Galarian Darumaka</td>\n",
              "      <td>5</td>\n",
              "      <td>Normal</td>\n",
              "      <td>Zen Charm Pokémon</td>\n",
              "      <td>1</td>\n",
              "      <td>Ice</td>\n",
              "      <td>NaN</td>\n",
              "      <td>0.7</td>\n",
              "      <td>40.0</td>\n",
              "      <td>315</td>\n",
              "      <td>70</td>\n",
              "      <td>90</td>\n",
              "      <td>45</td>\n",
              "      <td>15</td>\n",
              "      <td>45</td>\n",
              "      <td>50</td>\n",
              "      <td>NaN</td>\n",
              "      <td>Medium Slow</td>\n",
              "    </tr>\n",
              "    <tr>\n",
              "      <th>657</th>\n",
              "      <td>555</td>\n",
              "      <td>Galarian Darmanitan Standard Mode</td>\n",
              "      <td>5</td>\n",
              "      <td>Normal</td>\n",
              "      <td>Zen Charm Pokémon</td>\n",
              "      <td>1</td>\n",
              "      <td>Ice</td>\n",
              "      <td>NaN</td>\n",
              "      <td>1.7</td>\n",
              "      <td>120.0</td>\n",
              "      <td>480</td>\n",
              "      <td>105</td>\n",
              "      <td>140</td>\n",
              "      <td>55</td>\n",
              "      <td>30</td>\n",
              "      <td>55</td>\n",
              "      <td>95</td>\n",
              "      <td>NaN</td>\n",
              "      <td>Medium Slow</td>\n",
              "    </tr>\n",
              "    <tr>\n",
              "      <th>658</th>\n",
              "      <td>555</td>\n",
              "      <td>Galarian Darmanitan Zen Mode</td>\n",
              "      <td>5</td>\n",
              "      <td>Normal</td>\n",
              "      <td>Zen Charm Pokémon</td>\n",
              "      <td>2</td>\n",
              "      <td>Ice</td>\n",
              "      <td>Fire</td>\n",
              "      <td>1.7</td>\n",
              "      <td>120.0</td>\n",
              "      <td>540</td>\n",
              "      <td>105</td>\n",
              "      <td>160</td>\n",
              "      <td>55</td>\n",
              "      <td>30</td>\n",
              "      <td>55</td>\n",
              "      <td>135</td>\n",
              "      <td>NaN</td>\n",
              "      <td>NaN</td>\n",
              "    </tr>\n",
              "    <tr>\n",
              "      <th>666</th>\n",
              "      <td>562</td>\n",
              "      <td>Galarian Yamask</td>\n",
              "      <td>5</td>\n",
              "      <td>Normal</td>\n",
              "      <td>Spirit Pokémon</td>\n",
              "      <td>2</td>\n",
              "      <td>Ground</td>\n",
              "      <td>Ghost</td>\n",
              "      <td>0.5</td>\n",
              "      <td>1.5</td>\n",
              "      <td>303</td>\n",
              "      <td>38</td>\n",
              "      <td>55</td>\n",
              "      <td>85</td>\n",
              "      <td>30</td>\n",
              "      <td>65</td>\n",
              "      <td>30</td>\n",
              "      <td>NaN</td>\n",
              "      <td>Medium Fast</td>\n",
              "    </tr>\n",
              "    <tr>\n",
              "      <th>723</th>\n",
              "      <td>618</td>\n",
              "      <td>Galarian Stunfisk</td>\n",
              "      <td>5</td>\n",
              "      <td>Normal</td>\n",
              "      <td>Trap Pokémon</td>\n",
              "      <td>2</td>\n",
              "      <td>Ground</td>\n",
              "      <td>Steel</td>\n",
              "      <td>0.7</td>\n",
              "      <td>20.5</td>\n",
              "      <td>471</td>\n",
              "      <td>109</td>\n",
              "      <td>81</td>\n",
              "      <td>99</td>\n",
              "      <td>66</td>\n",
              "      <td>84</td>\n",
              "      <td>32</td>\n",
              "      <td>NaN</td>\n",
              "      <td>Medium Fast</td>\n",
              "    </tr>\n",
              "    <tr>\n",
              "      <th>1017</th>\n",
              "      <td>877</td>\n",
              "      <td>Morpeko Hangry Mode</td>\n",
              "      <td>8</td>\n",
              "      <td>Normal</td>\n",
              "      <td>Two-Sided Pokémon</td>\n",
              "      <td>2</td>\n",
              "      <td>Electric</td>\n",
              "      <td>Dark</td>\n",
              "      <td>0.3</td>\n",
              "      <td>3.0</td>\n",
              "      <td>436</td>\n",
              "      <td>58</td>\n",
              "      <td>95</td>\n",
              "      <td>58</td>\n",
              "      <td>70</td>\n",
              "      <td>58</td>\n",
              "      <td>97</td>\n",
              "      <td>NaN</td>\n",
              "      <td>Medium Fast</td>\n",
              "    </tr>\n",
              "    <tr>\n",
              "      <th>1029</th>\n",
              "      <td>888</td>\n",
              "      <td>Zacian Hero of Many Battles</td>\n",
              "      <td>8</td>\n",
              "      <td>Legendary</td>\n",
              "      <td>Warrior Pokémon</td>\n",
              "      <td>1</td>\n",
              "      <td>Fairy</td>\n",
              "      <td>NaN</td>\n",
              "      <td>2.8</td>\n",
              "      <td>110.0</td>\n",
              "      <td>670</td>\n",
              "      <td>92</td>\n",
              "      <td>130</td>\n",
              "      <td>115</td>\n",
              "      <td>80</td>\n",
              "      <td>115</td>\n",
              "      <td>138</td>\n",
              "      <td>NaN</td>\n",
              "      <td>Slow</td>\n",
              "    </tr>\n",
              "    <tr>\n",
              "      <th>1031</th>\n",
              "      <td>889</td>\n",
              "      <td>Zamazenta Hero of Many Battles</td>\n",
              "      <td>8</td>\n",
              "      <td>Legendary</td>\n",
              "      <td>Warrior Pokémon</td>\n",
              "      <td>1</td>\n",
              "      <td>Fighting</td>\n",
              "      <td>NaN</td>\n",
              "      <td>2.9</td>\n",
              "      <td>210.0</td>\n",
              "      <td>670</td>\n",
              "      <td>92</td>\n",
              "      <td>130</td>\n",
              "      <td>115</td>\n",
              "      <td>80</td>\n",
              "      <td>115</td>\n",
              "      <td>138</td>\n",
              "      <td>NaN</td>\n",
              "      <td>Slow</td>\n",
              "    </tr>\n",
              "    <tr>\n",
              "      <th>1033</th>\n",
              "      <td>890</td>\n",
              "      <td>Eternatus Eternamax</td>\n",
              "      <td>8</td>\n",
              "      <td>Legendary</td>\n",
              "      <td>Gigantic Pokémon</td>\n",
              "      <td>2</td>\n",
              "      <td>Poison</td>\n",
              "      <td>Dragon</td>\n",
              "      <td>100.0</td>\n",
              "      <td>NaN</td>\n",
              "      <td>1125</td>\n",
              "      <td>255</td>\n",
              "      <td>115</td>\n",
              "      <td>250</td>\n",
              "      <td>125</td>\n",
              "      <td>250</td>\n",
              "      <td>130</td>\n",
              "      <td>NaN</td>\n",
              "      <td>Slow</td>\n",
              "    </tr>\n",
              "  </tbody>\n",
              "</table>\n",
              "</div>"
            ],
            "text/plain": [
              "      pokedex_number  ...  growth_rate\n",
              "69                52  ...  Medium Fast\n",
              "100               77  ...  Medium Fast\n",
              "102               78  ...  Medium Fast\n",
              "111               83  ...  Medium Fast\n",
              "144              110  ...  Medium Fast\n",
              "158              122  ...  Medium Fast\n",
              "273              222  ...         Fast\n",
              "320              263  ...  Medium Fast\n",
              "322              264  ...  Medium Fast\n",
              "654              554  ...  Medium Slow\n",
              "657              555  ...  Medium Slow\n",
              "658              555  ...          NaN\n",
              "666              562  ...  Medium Fast\n",
              "723              618  ...  Medium Fast\n",
              "1017             877  ...  Medium Fast\n",
              "1029             888  ...         Slow\n",
              "1031             889  ...         Slow\n",
              "1033             890  ...         Slow\n",
              "\n",
              "[18 rows x 19 columns]"
            ]
          },
          "metadata": {
            "tags": []
          },
          "execution_count": 16
        }
      ]
    },
    {
      "cell_type": "code",
      "metadata": {
        "id": "DGJRNdz8dSxK"
      },
      "source": [
        "#Datos obtenidos de la misma fuente del autor\n",
        "df_clean.at[69,'catch_rate'] = 255.0\n",
        "df_clean.at[100,'catch_rate'] = 190.0\n",
        "df_clean.at[102,'catch_rate'] = 60.0\n",
        "df_clean.at[111,'catch_rate'] = 45.0\n",
        "df_clean.at[144,'catch_rate'] = 60.0\n",
        "df_clean.at[158,'catch_rate'] = 45.0\n",
        "df_clean.at[273,'catch_rate'] = 60.0\n",
        "df_clean.at[320,'catch_rate'] = 255.0\n",
        "df_clean.at[322,'catch_rate'] = 90.0\n",
        "df_clean.at[654,'catch_rate'] = 120.0\n",
        "df_clean.at[657,'catch_rate'] = 60.0\n",
        "df_clean.at[658,'catch_rate'] = 60.0\n",
        "df_clean.at[666,'catch_rate'] = 190.0\n",
        "df_clean.at[723,'catch_rate'] = 75.0\n",
        "df_clean.at[1017,'catch_rate'] = 180.0\n",
        "df_clean.at[1029,'catch_rate'] = 10.0\n",
        "df_clean.at[1031,'catch_rate'] = 10.0\n",
        "df_clean.at[1033,'catch_rate'] = 255.0"
      ],
      "execution_count": 17,
      "outputs": []
    },
    {
      "cell_type": "markdown",
      "metadata": {
        "id": "abk7KKQAdfVL"
      },
      "source": [
        "Con esto terminamos de limpiar nuestro Dataset y podemos comenzar el análisis."
      ]
    },
    {
      "cell_type": "code",
      "metadata": {
        "colab": {
          "base_uri": "https://localhost:8080/"
        },
        "id": "J2XhmH6qGMiH",
        "outputId": "00e8ae65-70c7-4863-f651-cc23fabe5c64"
      },
      "source": [
        "df_clean.isnull().sum()"
      ],
      "execution_count": 19,
      "outputs": [
        {
          "output_type": "execute_result",
          "data": {
            "text/plain": [
              "pokedex_number    0\n",
              "name              0\n",
              "generation        0\n",
              "status            0\n",
              "species           0\n",
              "type_number       0\n",
              "type_1            0\n",
              "type_2            0\n",
              "height_m          0\n",
              "weight_kg         0\n",
              "total_points      0\n",
              "hp                0\n",
              "attack            0\n",
              "defense           0\n",
              "sp_attack         0\n",
              "sp_defense        0\n",
              "speed             0\n",
              "catch_rate        0\n",
              "growth_rate       0\n",
              "dtype: int64"
            ]
          },
          "metadata": {
            "tags": []
          },
          "execution_count": 19
        }
      ]
    },
    {
      "cell_type": "code",
      "metadata": {
        "id": "tYm8GJosd05W"
      },
      "source": [
        "df_clean.to_csv('pokédex_clean.csv')"
      ],
      "execution_count": 18,
      "outputs": []
    },
    {
      "cell_type": "markdown",
      "metadata": {
        "id": "6dtNY26Lp2jz"
      },
      "source": [
        "# Postwork 1: Obteniendo estimados de locación y variabilidad\n",
        "Observemos un poco los campos del dataset para encontrar los datos numericos:"
      ]
    },
    {
      "cell_type": "code",
      "metadata": {
        "colab": {
          "base_uri": "https://localhost:8080/"
        },
        "id": "-_4dbCKvdgRA",
        "outputId": "385d30a6-d3a2-4e5a-a7a8-6a412f534c7a"
      },
      "source": [
        "import pandas as pd\n",
        "df_clean = pd.read_csv(\"https://raw.githubusercontent.com/JMCastle98/M4_Analisis_de_Datos_con_Python/main/Dataset/pok%C3%A9dex_clean.csv\", index_col=0)\n",
        "df_clean.info()"
      ],
      "execution_count": 21,
      "outputs": [
        {
          "output_type": "stream",
          "text": [
            "<class 'pandas.core.frame.DataFrame'>\n",
            "Int64Index: 1045 entries, 0 to 1044\n",
            "Data columns (total 19 columns):\n",
            " #   Column          Non-Null Count  Dtype  \n",
            "---  ------          --------------  -----  \n",
            " 0   pokedex_number  1045 non-null   int64  \n",
            " 1   name            1045 non-null   object \n",
            " 2   generation      1045 non-null   int64  \n",
            " 3   status          1045 non-null   object \n",
            " 4   species         1045 non-null   object \n",
            " 5   type_number     1045 non-null   int64  \n",
            " 6   type_1          1045 non-null   object \n",
            " 7   type_2          1045 non-null   object \n",
            " 8   height_m        1045 non-null   float64\n",
            " 9   weight_kg       1045 non-null   float64\n",
            " 10  total_points    1045 non-null   int64  \n",
            " 11  hp              1045 non-null   int64  \n",
            " 12  attack          1045 non-null   int64  \n",
            " 13  defense         1045 non-null   int64  \n",
            " 14  sp_attack       1045 non-null   int64  \n",
            " 15  sp_defense      1045 non-null   int64  \n",
            " 16  speed           1045 non-null   int64  \n",
            " 17  catch_rate      1045 non-null   float64\n",
            " 18  growth_rate     1045 non-null   object \n",
            "dtypes: float64(3), int64(10), object(6)\n",
            "memory usage: 163.3+ KB\n"
          ],
          "name": "stdout"
        }
      ]
    },
    {
      "cell_type": "markdown",
      "metadata": {
        "id": "VFfEGQF2OCpu"
      },
      "source": [
        "La mayoría de campos son de tipo entero o flotante, los que aportan más información sobre las características del pokémon son:\n",
        "\n",
        "- altura\n",
        "- peso\n",
        "- puntos totales\n",
        "- estadísticas\n",
        "- ratio de captura. \n",
        "\n",
        "Para facilitar la tarea de obtener los estimados númericos creamos una función."
      ]
    },
    {
      "cell_type": "code",
      "metadata": {
        "id": "76Q2Gx6P09DE"
      },
      "source": [
        "def estimados(campo):\n",
        "    from scipy import stats\n",
        "    print(f'El promedio de {campo.name} es: '+'{0:.3f}'.format(campo.mean()))\n",
        "    print(f'La mediana de {campo.name} es: '+'{0:.3f}'.format(campo.median()))\n",
        "    print(f'La media truncada de {campo.name} es: '+'{0:.3f}'.format(stats.trim_mean(campo, 0.1)))\n",
        "    print(f'La desviación estándar de {campo.name} es: '+'{0:.3f}'.format(campo.std()))\n",
        "    print(f'El máximo de {campo.name} es: '+'{0:.3f}'.format(campo.max()))\n",
        "    print(f'El mínimo de {campo.name} es: '+'{0:.3f}'.format(campo.min()))\n",
        "    print(f'El rango de {campo.name} es: '+'{0:.3f}'.format(campo.max() - campo.min()))\n",
        "    print(f'El percentil 25 de {campo.name} es: '+'{0:.3f}'.format(campo.quantile(0.25))+' y el percentil 75 es: '+'{0:.3f}'.format(campo.quantile(0.75)))\n",
        "    print(f'El rango intercuartílico de {campo.name} es: '+'{0:.3f}'.format(campo.quantile(0.75)-campo.quantile(0.25)))"
      ],
      "execution_count": 22,
      "outputs": []
    },
    {
      "cell_type": "code",
      "metadata": {
        "colab": {
          "base_uri": "https://localhost:8080/"
        },
        "id": "DYW8_bvy2fpl",
        "outputId": "1370b62c-a906-41a6-effb-5869f5b39519"
      },
      "source": [
        "estimados(df_clean['height_m'])"
      ],
      "execution_count": 23,
      "outputs": [
        {
          "output_type": "stream",
          "text": [
            "El promedio de height_m es: 1.374\n",
            "La mediana de height_m es: 1.000\n",
            "La media truncada de height_m es: 1.057\n",
            "La desviación estándar de height_m es: 3.353\n",
            "El máximo de height_m es: 100.000\n",
            "El mínimo de height_m es: 0.100\n",
            "El rango de height_m es: 99.900\n",
            "El percentil 25 de height_m es: 0.600 y el percentil 75 es: 1.600\n",
            "El rango intercuartílico de height_m es: 1.000\n"
          ],
          "name": "stdout"
        }
      ]
    },
    {
      "cell_type": "markdown",
      "metadata": {
        "id": "WQPRqND5zozW"
      },
      "source": [
        "Muy bien, lo primero que salta a la vista es que nuestro amigo Eternatus es un outlier ya que el posee la altura máxima. En general esto no movió mucho a nuestra media ya que tenemos más de 1000 datos y como podemos comprobar con la mediana y la media truncada; 1 metro de altura es lo normal en los pokémon. Observamos que la desviación estándar es algo grande debido al outlier, pero los percentiles 25 y 75 nos indican que la mayoría de datos están entre 0.6 y 1.6 metros. "
      ]
    },
    {
      "cell_type": "code",
      "metadata": {
        "colab": {
          "base_uri": "https://localhost:8080/"
        },
        "id": "ssGqNVku3lyx",
        "outputId": "fc34bdf2-9e25-4ec4-efb5-d87e93a040e0"
      },
      "source": [
        "estimados(df_clean['weight_kg'])"
      ],
      "execution_count": 24,
      "outputs": [
        {
          "output_type": "stream",
          "text": [
            "El promedio de weight_kg es: 75.694\n",
            "La mediana de weight_kg es: 29.500\n",
            "La media truncada de weight_kg es: 41.010\n",
            "La desviación estándar de weight_kg es: 196.021\n",
            "El máximo de weight_kg es: 4750.000\n",
            "El mínimo de weight_kg es: 0.100\n",
            "El rango de weight_kg es: 4749.900\n",
            "El percentil 25 de weight_kg es: 9.000 y el percentil 75 es: 70.500\n",
            "El rango intercuartílico de weight_kg es: 61.500\n"
          ],
          "name": "stdout"
        }
      ]
    },
    {
      "cell_type": "markdown",
      "metadata": {
        "id": "VRw0uBX1551H"
      },
      "source": [
        "En el peso encontramos como outlier es el de nuestro amigo Eternatus (no por nada es un pokémon legendario) mientras que el peso máximo otros pokémon es de 999.9 kg Encontramos que un pokémon promedio pesa 41.010 kg y que el más ligero pesa solo 100 gramos."
      ]
    },
    {
      "cell_type": "code",
      "metadata": {
        "colab": {
          "base_uri": "https://localhost:8080/"
        },
        "id": "PLRFYKPb3nzB",
        "outputId": "d3c6281a-cbfd-40a7-8bc8-760dde81f994"
      },
      "source": [
        "estimados(df_clean['total_points'])"
      ],
      "execution_count": 25,
      "outputs": [
        {
          "output_type": "stream",
          "text": [
            "El promedio de total_points es: 439.353\n",
            "La mediana de total_points es: 458.000\n",
            "La media truncada de total_points es: 437.200\n",
            "La desviación estándar de total_points es: 121.993\n",
            "El máximo de total_points es: 1125.000\n",
            "El mínimo de total_points es: 175.000\n",
            "El rango de total_points es: 950.000\n",
            "El percentil 25 de total_points es: 330.000 y el percentil 75 es: 515.000\n",
            "El rango intercuartílico de total_points es: 185.000\n"
          ],
          "name": "stdout"
        }
      ]
    },
    {
      "cell_type": "markdown",
      "metadata": {
        "id": "zZHyNfd68Rcd"
      },
      "source": [
        "Hablando de los puntos totales, nos encontramos con pokémon super fuertes con hasta 1125 puntos, sin embargo con la media truncada encontramos que lo más normal son pokémon con 437.2 puntos y podemos establacer el rango entre 330 y 515 puntos. La desviación estándar es algo aceptable con un valor de 121.993."
      ]
    },
    {
      "cell_type": "code",
      "metadata": {
        "colab": {
          "base_uri": "https://localhost:8080/"
        },
        "id": "iGsS-C-R3oLr",
        "outputId": "6c78be84-c566-4fda-c0dc-c166a8c52388"
      },
      "source": [
        "estimados(df_clean['hp'])"
      ],
      "execution_count": 26,
      "outputs": [
        {
          "output_type": "stream",
          "text": [
            "El promedio de hp es: 70.068\n",
            "La mediana de hp es: 68.000\n",
            "La media truncada de hp es: 67.994\n",
            "La desviación estándar de hp es: 26.671\n",
            "El máximo de hp es: 255.000\n",
            "El mínimo de hp es: 1.000\n",
            "El rango de hp es: 254.000\n",
            "El percentil 25 de hp es: 50.000 y el percentil 75 es: 82.000\n",
            "El rango intercuartílico de hp es: 32.000\n"
          ],
          "name": "stdout"
        }
      ]
    },
    {
      "cell_type": "markdown",
      "metadata": {
        "id": "8kClptrU8z4f"
      },
      "source": [
        "En cuanto a la vida, observamos que lo normal es que los pokémon tengan 68 puntos, los pokémon más fuertes tendrán como máximo 255 y los más normales estarán entre 50 y 82 puntos de vida."
      ]
    },
    {
      "cell_type": "code",
      "metadata": {
        "colab": {
          "base_uri": "https://localhost:8080/"
        },
        "id": "YOc-OCnI3opt",
        "outputId": "3d64e761-9fc9-4846-a9ac-9cf699940e2c"
      },
      "source": [
        "estimados(df_clean['attack'])"
      ],
      "execution_count": 27,
      "outputs": [
        {
          "output_type": "stream",
          "text": [
            "El promedio de attack es: 80.477\n",
            "La mediana de attack es: 77.000\n",
            "La media truncada de attack es: 78.869\n",
            "La desviación estándar de attack es: 32.433\n",
            "El máximo de attack es: 190.000\n",
            "El mínimo de attack es: 5.000\n",
            "El rango de attack es: 185.000\n",
            "El percentil 25 de attack es: 55.000 y el percentil 75 es: 100.000\n",
            "El rango intercuartílico de attack es: 45.000\n"
          ],
          "name": "stdout"
        }
      ]
    },
    {
      "cell_type": "markdown",
      "metadata": {
        "id": "nLxBW9NU9GWW"
      },
      "source": [
        "Para un pokémon enfocado a ataques físicos, lo normal sería golpear con alrededor de 78.869 puntos de ataque, los que poseen 190 puntos seguramente son pokémon legendarios. Los percentiles nos indican que el 50% de los pokémon tienen una fuerza entre 100 y 55 puntos, algo entendible considerando que no todos están necesariamente en su forma evolutiva más fuerte."
      ]
    },
    {
      "cell_type": "code",
      "metadata": {
        "colab": {
          "base_uri": "https://localhost:8080/"
        },
        "id": "9bm5luLK3o9P",
        "outputId": "72f59d30-5506-44b4-f64c-534e364f43a6"
      },
      "source": [
        "estimados(df_clean['defense'])"
      ],
      "execution_count": 28,
      "outputs": [
        {
          "output_type": "stream",
          "text": [
            "El promedio de defense es: 74.671\n",
            "La mediana de defense es: 70.000\n",
            "La media truncada de defense es: 71.943\n",
            "La desviación estándar de defense es: 31.259\n",
            "El máximo de defense es: 250.000\n",
            "El mínimo de defense es: 5.000\n",
            "El rango de defense es: 245.000\n",
            "El percentil 25 de defense es: 50.000 y el percentil 75 es: 90.000\n",
            "El rango intercuartílico de defense es: 40.000\n"
          ],
          "name": "stdout"
        }
      ]
    },
    {
      "cell_type": "markdown",
      "metadata": {
        "id": "xnuYvRjo9pvL"
      },
      "source": [
        "La mejor ofensiva es una buena defensa, algunas batallas pokémon se ganan por resistencia y aguante, aquellos con 250 puntos puede que sean de tipo acero o roca. Para el resto de pokémon una defensa cercana a 72 es lo normal, los percentiles van de 50 a 90 puntos y parece que eso basta para aguantar una salpicadura del poderoso Magikarp. \n",
        "\n",
        "<p align=\"center\">\n",
        "<img src=\"https://media.tenor.com/images/b4c546e6a9a3fdaff5c0841fa38563c1/tenor.gif\"  height =\"100\" width = \"100\">\n",
        "<p>\n"
      ]
    },
    {
      "cell_type": "code",
      "metadata": {
        "colab": {
          "base_uri": "https://localhost:8080/"
        },
        "id": "JLpH3iWeDIBE",
        "outputId": "c136b145-d73c-410b-fb3a-01d2e682c185"
      },
      "source": [
        "estimados(df_clean['sp_attack'])"
      ],
      "execution_count": 29,
      "outputs": [
        {
          "output_type": "stream",
          "text": [
            "El promedio de sp_attack es: 73.032\n",
            "La mediana de sp_attack es: 65.000\n",
            "La media truncada de sp_attack es: 70.382\n",
            "La desviación estándar de sp_attack es: 32.746\n",
            "El máximo de sp_attack es: 194.000\n",
            "El mínimo de sp_attack es: 10.000\n",
            "El rango de sp_attack es: 184.000\n",
            "El percentil 25 de sp_attack es: 50.000 y el percentil 75 es: 95.000\n",
            "El rango intercuartílico de sp_attack es: 45.000\n"
          ],
          "name": "stdout"
        }
      ]
    },
    {
      "cell_type": "markdown",
      "metadata": {
        "id": "-VfSqd4O-iSl"
      },
      "source": [
        "Cuando se habla de ataque especial en el mundo pokémon, hablamos de los poderes característicos relacionados con el tipo del pokémon, como lo es el mítico impactrueno. El ataque especial más alto es de 194 puntos y seguramente tenemos un pokémon psiquíco, al resto de pokémon los podemos encontrar entre 50 y 95 puntos, aquellos que tengan menos seguramente serán de tipo lucha.\n",
        "\n",
        "<p align=\"center\">\n",
        "<img src=\"https://pa1.narvii.com/6797/ccf64a56e65ae3b0a1f4b49948e9b9081b8a0c3e_hq.gif\"  height =\"200\" width = \"250\">\n",
        "<p>"
      ]
    },
    {
      "cell_type": "code",
      "metadata": {
        "colab": {
          "base_uri": "https://localhost:8080/"
        },
        "id": "uXvP1ZWr3pSf",
        "outputId": "17c86183-8a89-4646-e599-e61916c1f752"
      },
      "source": [
        "estimados(df_clean['sp_defense'])"
      ],
      "execution_count": 30,
      "outputs": [
        {
          "output_type": "stream",
          "text": [
            "El promedio de sp_defense es: 72.299\n",
            "La mediana de sp_defense es: 70.000\n",
            "La media truncada de sp_defense es: 70.372\n",
            "La desviación estándar de sp_defense es: 28.099\n",
            "El máximo de sp_defense es: 250.000\n",
            "El mínimo de sp_defense es: 20.000\n",
            "El rango de sp_defense es: 230.000\n",
            "El percentil 25 de sp_defense es: 50.000 y el percentil 75 es: 90.000\n",
            "El rango intercuartílico de sp_defense es: 40.000\n"
          ],
          "name": "stdout"
        }
      ]
    },
    {
      "cell_type": "markdown",
      "metadata": {
        "id": "QUnzktFe_IvG"
      },
      "source": [
        "La defensa especial por lo tanto es muy útil para contrarrestar ataques especiales, los pokémon normalmente tendrán 70 puntos y el rango esta entre 50 y 90 puntos por lo que no todos pueden resistir un enfrentamiento de ese tipo. Los mejores pokémon tanque son aquellos con una buena defensa física y especial."
      ]
    },
    {
      "cell_type": "code",
      "metadata": {
        "colab": {
          "base_uri": "https://localhost:8080/"
        },
        "id": "katsJ-1MCSgc",
        "outputId": "171a7c32-6b5a-4d04-a550-2db221a11d55"
      },
      "source": [
        "estimados(df_clean['speed'])"
      ],
      "execution_count": 31,
      "outputs": [
        {
          "output_type": "stream",
          "text": [
            "El promedio de speed es: 68.808\n",
            "La mediana de speed es: 65.000\n",
            "La media truncada de speed es: 67.461\n",
            "La desviación estándar de speed es: 30.210\n",
            "El máximo de speed es: 200.000\n",
            "El mínimo de speed es: 5.000\n",
            "El rango de speed es: 195.000\n",
            "El percentil 25 de speed es: 45.000 y el percentil 75 es: 90.000\n",
            "El rango intercuartílico de speed es: 45.000\n"
          ],
          "name": "stdout"
        }
      ]
    },
    {
      "cell_type": "markdown",
      "metadata": {
        "id": "Dojmr9kwAMjA"
      },
      "source": [
        "La velocidad puede parecer un parámetro sin sentido en un juego de combates por turnos como lo es pokémon, pero este es de vital importancia, ya que el pokémon más rápido ataca primero. Si nuestro pokémon es muy fuerte y queremos dar el golpe decisivo debemos buscar que también sea veloz, o tal vez busquemos un tanque super lento que resista todos los golpes ... las estrategias con infinitas. En cualquier caso, el pokémon promedio tiene 67.461 puntos de velocidad base y el rango está entre 45 y 90 puntos, superar este rango puede significar atacar primero."
      ]
    },
    {
      "cell_type": "code",
      "metadata": {
        "colab": {
          "base_uri": "https://localhost:8080/"
        },
        "id": "B9a_6fnTDVAB",
        "outputId": "d99bcd26-d262-47f3-8110-9029569b431f"
      },
      "source": [
        "estimados(df_clean['catch_rate'])"
      ],
      "execution_count": 32,
      "outputs": [
        {
          "output_type": "stream",
          "text": [
            "El promedio de catch_rate es: 93.075\n",
            "La mediana de catch_rate es: 60.000\n",
            "La media truncada de catch_rate es: 84.523\n",
            "La desviación estándar de catch_rate es: 76.045\n",
            "El máximo de catch_rate es: 255.000\n",
            "El mínimo de catch_rate es: 3.000\n",
            "El rango de catch_rate es: 252.000\n",
            "El percentil 25 de catch_rate es: 45.000 y el percentil 75 es: 127.000\n",
            "El rango intercuartílico de catch_rate es: 82.000\n"
          ],
          "name": "stdout"
        }
      ]
    },
    {
      "cell_type": "markdown",
      "metadata": {
        "id": "kU288orxAxpd"
      },
      "source": [
        "Finalmente observamos el ratio de captura, el valor máximo es de 255 puntos y generalmente corresponde a pokémon comúnes o sencillos de capturar. Mientras que los pokémon con 3 puntos son los más difíciles y suelen ser legendarios que darán mucha pelea antes de entrar en la pokébola. \n",
        "\n",
        "Este parámetro en realidad es un término más de una fórmula secreta de los videojuegos de pokémon que ha ido cambiando con el tiempo, los fans han encontrado que junto a otros parámetros como vida restante, estado alterado y nivel puede obtener la probabilidad real. \n",
        "\n",
        "<p align=\"center\">\n",
        "<img src=\"https://img.buzzfeed.com/buzzfeed-static/static/2015-09/10/11/enhanced/webdr01/anigif_enhanced-15027-1441899826-4.gif\"  height =\"200\" width = \"250\">\n",
        "<p>\n",
        "\n",
        "Lo bueno es que los pokémon tienen un ratio de captura de 84.523 puntos si dejamos de lado a los más fuertes y débiles, la mayoría tiene un ratio mayor a 45 y menor a 127 puntos. \n",
        "\n",
        "Como hemos podido apreciar, las diferentes estadísticas de cada pokémon los vuelven únicos, en un sentido amplio de la palabra. Como entrenadores nuestro objetivo es encontrar al mejor pokémon para cada batalla analizando sus fortalezas y debilidades, los verdaderos maestros pokémon son aquellos que pueden luchar con cualquiera, por ejemplo, este pequeño Pachirisu que hizó historia en 2014 venciendo a muchos pokémon legendarios y llevando a su equipo a la victoria.\n",
        "\n",
        "<p align=\"center\">\n",
        "<img src=\"https://as.com/meristation/imagenes/2018/08/24/reportajes/1535078626_003205_1535079545_sumario_normal.jpg\"  height =\"200\" width = \"300\">\n",
        "<p>\n"
      ]
    }
  ]
}